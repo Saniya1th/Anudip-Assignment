{
  "nbformat": 4,
  "nbformat_minor": 0,
  "metadata": {
    "colab": {
      "provenance": [],
      "authorship_tag": "ABX9TyMp/bxQGEplFPIGdDgOEc7D",
      "include_colab_link": true
    },
    "kernelspec": {
      "name": "python3",
      "display_name": "Python 3"
    },
    "language_info": {
      "name": "python"
    }
  },
  "cells": [
    {
      "cell_type": "markdown",
      "metadata": {
        "id": "view-in-github",
        "colab_type": "text"
      },
      "source": [
        "<a href=\"https://colab.research.google.com/github/Saniya1th/Anudip-Assignment/blob/main/While_Loop_Lab_AF0416856.ipynb\" target=\"_parent\"><img src=\"https://colab.research.google.com/assets/colab-badge.svg\" alt=\"Open In Colab\"/></a>"
      ]
    },
    {
      "cell_type": "markdown",
      "source": [
        "Q1: Write a Python program to print numbers from 1 to 5 using a while loop.\n",
        "Output:\n",
        "1\n",
        "2\n",
        "3\n",
        "4\n",
        "5\n"
      ],
      "metadata": {
        "id": "1gG3Okw0yH7E"
      }
    },
    {
      "cell_type": "code",
      "execution_count": null,
      "metadata": {
        "colab": {
          "base_uri": "https://localhost:8080/"
        },
        "id": "dQaoyJVcx1JW",
        "outputId": "9cf3d430-ecea-480f-d1f6-d95c6ade648d"
      },
      "outputs": [
        {
          "output_type": "stream",
          "name": "stdout",
          "text": [
            "1\n",
            "2\n",
            "3\n",
            "4\n",
            "5\n"
          ]
        }
      ],
      "source": [
        "i=1\n",
        "while i in range(1,6):\n",
        "    print(i)\n",
        "    i+=1"
      ]
    },
    {
      "cell_type": "markdown",
      "source": [
        "Q2: Write a Python program to print the first 10 even numbers using a while loop.\n",
        "Output:\n",
        "2\n",
        "4\n",
        "6\n",
        "8\n",
        "10\n",
        "12\n",
        "14\n",
        "16\n",
        "18\n",
        "20\n",
        "\n"
      ],
      "metadata": {
        "id": "jDM9uaSZylE7"
      }
    },
    {
      "cell_type": "code",
      "source": [
        "i=2\n",
        "while i in range(2,21,2):\n",
        "    print(i)\n",
        "    i+=2"
      ],
      "metadata": {
        "colab": {
          "base_uri": "https://localhost:8080/"
        },
        "id": "SDrt48kSyqgI",
        "outputId": "abe62775-740b-4ba3-f58b-8f2d5aedacdf"
      },
      "execution_count": null,
      "outputs": [
        {
          "output_type": "stream",
          "name": "stdout",
          "text": [
            "2\n",
            "4\n",
            "6\n",
            "8\n",
            "10\n",
            "12\n",
            "14\n",
            "16\n",
            "18\n",
            "20\n"
          ]
        }
      ]
    },
    {
      "cell_type": "markdown",
      "source": [
        "Q3: Write a Python program to print the first 5 odd numbers using a while loop.\n",
        "Output:\n",
        "1\n",
        "3\n",
        "5\n",
        "7\n",
        "9\n"
      ],
      "metadata": {
        "id": "fI1fx7sTyuw2"
      }
    },
    {
      "cell_type": "code",
      "source": [
        "i=1\n",
        "while i in range(1,10,2):\n",
        "    print(i)\n",
        "    i+=2"
      ],
      "metadata": {
        "colab": {
          "base_uri": "https://localhost:8080/"
        },
        "id": "z8OK_Kaxyzsl",
        "outputId": "ff9c8516-c8b7-4a7c-838f-64a52c881527"
      },
      "execution_count": null,
      "outputs": [
        {
          "output_type": "stream",
          "name": "stdout",
          "text": [
            "1\n",
            "3\n",
            "5\n",
            "7\n",
            "9\n"
          ]
        }
      ]
    },
    {
      "cell_type": "markdown",
      "source": [
        "Q4: Write a Python program to print the multiplication table of 3 using a while loop (from 3x1 to 3x10).\n",
        "Output:\n",
        "3 × 1 = 3\n",
        "3 × 2 = 6\n",
        "3 × 3 = 9\n",
        "...\n",
        "3 × 10 = 30\n"
      ],
      "metadata": {
        "id": "bPU1m3L6y3h8"
      }
    },
    {
      "cell_type": "code",
      "source": [
        "i=3\n",
        "while i in range(3,31,3):\n",
        "    print(f\"3 x {i//3} = {i}\")\n",
        "    i+=3\n"
      ],
      "metadata": {
        "colab": {
          "base_uri": "https://localhost:8080/"
        },
        "id": "WkHRc4Voy-Lj",
        "outputId": "ad71d154-def2-4889-b15e-f6a768689b23"
      },
      "execution_count": null,
      "outputs": [
        {
          "output_type": "stream",
          "name": "stdout",
          "text": [
            "3 x 1 = 3\n",
            "3 x 2 = 6\n",
            "3 x 3 = 9\n",
            "3 x 4 = 12\n",
            "3 x 5 = 15\n",
            "3 x 6 = 18\n",
            "3 x 7 = 21\n",
            "3 x 8 = 24\n",
            "3 x 9 = 27\n",
            "3 x 10 = 30\n"
          ]
        }
      ]
    },
    {
      "cell_type": "markdown",
      "source": [
        "Q5: Write a Python program to print numbers from 10 down to 1 using a while loop.\n",
        "Output:\n",
        "10\n",
        "9\n",
        "8\n",
        "7\n",
        "...\n",
        "1\n"
      ],
      "metadata": {
        "id": "2pqlFws1zFDu"
      }
    },
    {
      "cell_type": "code",
      "source": [
        "i=10\n",
        "while i in range(10,0,-1):\n",
        "    print(i)\n",
        "    i-=1"
      ],
      "metadata": {
        "colab": {
          "base_uri": "https://localhost:8080/"
        },
        "id": "mHXa8GSOzKnN",
        "outputId": "335fd609-d893-457d-bf33-63cfc7ff7ff7"
      },
      "execution_count": null,
      "outputs": [
        {
          "output_type": "stream",
          "name": "stdout",
          "text": [
            "10\n",
            "9\n",
            "8\n",
            "7\n",
            "6\n",
            "5\n",
            "4\n",
            "3\n",
            "2\n",
            "1\n"
          ]
        }
      ]
    },
    {
      "cell_type": "markdown",
      "source": [
        "Q6: Write a Python program to calculate the sum of numbers from 1 to 10 using a while loop.\n",
        "Output:\n",
        "Sum = 55\n"
      ],
      "metadata": {
        "id": "73UU2Y6rzVb8"
      }
    },
    {
      "cell_type": "code",
      "source": [
        "i=1\n",
        "sum=0\n",
        "while i in range(1,11):\n",
        "    sum+=i\n",
        "    i+=1\n",
        "print(f\"Sum = {sum}\")"
      ],
      "metadata": {
        "colab": {
          "base_uri": "https://localhost:8080/"
        },
        "id": "OXIzD6SbzY2i",
        "outputId": "a507b661-7694-4ddd-a898-42da320d8c95"
      },
      "execution_count": null,
      "outputs": [
        {
          "output_type": "stream",
          "name": "stdout",
          "text": [
            "Sum = 55\n"
          ]
        }
      ]
    },
    {
      "cell_type": "markdown",
      "source": [
        "Q7: Write a Python program to print all numbers from 1 to 50 that are divisible by 5 using a while loop.\n",
        "Output:\n",
        "5\n",
        "10\n",
        "15\n",
        "...\n",
        "50\n"
      ],
      "metadata": {
        "id": "L6iZoBEtzc7i"
      }
    },
    {
      "cell_type": "code",
      "source": [
        "i=1\n",
        "while i in range(1,51):\n",
        "    if i%5==0:\n",
        "        print(i)\n",
        "    i+=1"
      ],
      "metadata": {
        "colab": {
          "base_uri": "https://localhost:8080/"
        },
        "id": "YYwn6wppzf5_",
        "outputId": "a6394cad-a97a-4606-a6ff-e0fcea4059a1"
      },
      "execution_count": null,
      "outputs": [
        {
          "output_type": "stream",
          "name": "stdout",
          "text": [
            "5\n",
            "10\n",
            "15\n",
            "20\n",
            "25\n",
            "30\n",
            "35\n",
            "40\n",
            "45\n",
            "50\n"
          ]
        }
      ]
    },
    {
      "cell_type": "markdown",
      "source": [
        "Q8: Write a Python program to print numbers between 1 and 20 that are multiples of 3 using a while loop.\n",
        "Output:\n",
        "3\n",
        "6\n",
        "9\n",
        "12\n",
        "15\n",
        "18\n"
      ],
      "metadata": {
        "id": "jQr20ZlQzoOL"
      }
    },
    {
      "cell_type": "code",
      "source": [
        "i=3\n",
        "while i in range(3,21,3):\n",
        "    print(i)\n",
        "    i+=3"
      ],
      "metadata": {
        "colab": {
          "base_uri": "https://localhost:8080/"
        },
        "id": "gRE9aCoezyQw",
        "outputId": "69a33182-f16d-46f1-c51b-f2d2cde13dac"
      },
      "execution_count": null,
      "outputs": [
        {
          "output_type": "stream",
          "name": "stdout",
          "text": [
            "3\n",
            "6\n",
            "9\n",
            "12\n",
            "15\n",
            "18\n"
          ]
        }
      ]
    },
    {
      "cell_type": "markdown",
      "source": [
        "Q9: Write a Python program to find the factorial of a number using a while loop.\n",
        "Example:\n",
        "Input: 5\n",
        "Output: 120 (because 5 × 4 × 3 × 2 × 1 = 120)\n"
      ],
      "metadata": {
        "id": "mNevh5tez4jY"
      }
    },
    {
      "cell_type": "code",
      "source": [
        "i=int(input(\"Enter a number: \"))\n",
        "fact=1\n",
        "while i>0:\n",
        "    fact*=i\n",
        "    i-=1\n",
        "print(fact)"
      ],
      "metadata": {
        "colab": {
          "base_uri": "https://localhost:8080/"
        },
        "id": "N3BfQ7o3z8Wl",
        "outputId": "43946afb-9364-4c9d-cdcf-60a6db82b517"
      },
      "execution_count": null,
      "outputs": [
        {
          "output_type": "stream",
          "name": "stdout",
          "text": [
            "Enter a number: 5\n",
            "120\n"
          ]
        }
      ]
    },
    {
      "cell_type": "markdown",
      "source": [
        "Q10: Write a Python program to calculate the sum of digits of a number using a while loop.\n",
        "Example:\n",
        "Input: 123\n",
        "Output: 6 (because 1 + 2 + 3 = 6)"
      ],
      "metadata": {
        "id": "Qw-Gs64m0DAe"
      }
    },
    {
      "cell_type": "code",
      "source": [
        "i=int(input(\"Enter a number: \"))\n",
        "sum=0\n",
        "while i>0:\n",
        "    sum+=i%10\n",
        "    i//=10\n",
        "print(sum)"
      ],
      "metadata": {
        "colab": {
          "base_uri": "https://localhost:8080/"
        },
        "id": "m7i83Vhe0HB4",
        "outputId": "27839866-1dc4-43b7-93ff-e79e6a93e61e"
      },
      "execution_count": null,
      "outputs": [
        {
          "output_type": "stream",
          "name": "stdout",
          "text": [
            "Enter a number: 123\n",
            "6\n"
          ]
        }
      ]
    }
  ]
}