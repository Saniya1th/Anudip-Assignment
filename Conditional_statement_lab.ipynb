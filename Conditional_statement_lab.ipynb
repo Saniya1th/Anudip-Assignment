{
  "nbformat": 4,
  "nbformat_minor": 0,
  "metadata": {
    "colab": {
      "provenance": [],
      "authorship_tag": "ABX9TyP1m2plFb/VqwvHgR3np6jG",
      "include_colab_link": true
    },
    "kernelspec": {
      "name": "python3",
      "display_name": "Python 3"
    },
    "language_info": {
      "name": "python"
    }
  },
  "cells": [
    {
      "cell_type": "markdown",
      "metadata": {
        "id": "view-in-github",
        "colab_type": "text"
      },
      "source": [
        "<a href=\"https://colab.research.google.com/github/Saniya1th/Anudip-Assignment/blob/main/Conditional_statement_lab.ipynb\" target=\"_parent\"><img src=\"https://colab.research.google.com/assets/colab-badge.svg\" alt=\"Open In Colab\"/></a>"
      ]
    },
    {
      "cell_type": "markdown",
      "source": [
        "Question 1: Write a Python program that checks if a given number is even. If it is, print \"Even number\".\n"
      ],
      "metadata": {
        "id": "uJjxRfrwTiIF"
      }
    },
    {
      "cell_type": "code",
      "execution_count": null,
      "metadata": {
        "id": "b89U5y-ITZoc",
        "colab": {
          "base_uri": "https://localhost:8080/"
        },
        "outputId": "9d2770cb-9b4c-4d81-951d-691228ca6d8f"
      },
      "outputs": [
        {
          "output_type": "stream",
          "name": "stdout",
          "text": [
            "enter a number4\n",
            "4 Even number\n"
          ]
        }
      ],
      "source": [
        "num=int(input(\"enter a number\"))\n",
        "if num %2== 0:\n",
        "  print(num, \"Even number\" )\n"
      ]
    },
    {
      "cell_type": "markdown",
      "source": [
        "Question 2: Write a Python program that checks if a given string contains the letter 'a'. If it does, print \"String contains 'a'\"."
      ],
      "metadata": {
        "id": "KvQL98Tmkrek"
      }
    },
    {
      "cell_type": "code",
      "source": [
        "num=input(\"enter a string\")\n",
        "if 'a' in num:\n",
        "  print(\"String contains 'a'\")"
      ],
      "metadata": {
        "colab": {
          "base_uri": "https://localhost:8080/"
        },
        "id": "o7f6_q5alfwM",
        "outputId": "eea47419-4fb8-4a25-ac75-feb6e805bde2"
      },
      "execution_count": null,
      "outputs": [
        {
          "output_type": "stream",
          "name": "stdout",
          "text": [
            "enter a stringSaniya\n",
            "String contains 'a'\n"
          ]
        }
      ]
    },
    {
      "cell_type": "markdown",
      "source": [
        "Question 3: Write a Python program that checks if a given year is a leap year. If it is, print \"Leap year\".\n"
      ],
      "metadata": {
        "id": "AO3Vf2HYlpuH"
      }
    },
    {
      "cell_type": "code",
      "source": [
        "num=int(input(\"enter a year\"))\n",
        "if num %4== 0:\n",
        "  print(num, \"Leap year\" )"
      ],
      "metadata": {
        "colab": {
          "base_uri": "https://localhost:8080/"
        },
        "id": "oCrm-NHvltaP",
        "outputId": "3fb0604a-c1d8-429e-fdd3-66e2b96f63bc"
      },
      "execution_count": null,
      "outputs": [
        {
          "output_type": "stream",
          "name": "stdout",
          "text": [
            "enter a year2024\n",
            "2024 Leap year\n"
          ]
        }
      ]
    },
    {
      "cell_type": "markdown",
      "source": [
        "Question 4: Write a Python program that checks if a given number is positive. If it is, print \"Positive number\".\n"
      ],
      "metadata": {
        "id": "jjE0P7pDl0Ja"
      }
    },
    {
      "cell_type": "code",
      "source": [
        "num= int(input(\"enter a number\"))\n",
        "if num>0:\n",
        "  print(\"Positive number\")"
      ],
      "metadata": {
        "colab": {
          "base_uri": "https://localhost:8080/"
        },
        "id": "Y0yOhc7Sl4My",
        "outputId": "65e186f4-f53a-46e4-b2fc-aecf3e3972a5"
      },
      "execution_count": null,
      "outputs": [
        {
          "output_type": "stream",
          "name": "stdout",
          "text": [
            "enter a number5\n",
            "Positive number\n"
          ]
        }
      ]
    },
    {
      "cell_type": "markdown",
      "source": [
        "Question 5: Write a Python program that checks if a given character is a vowel. If it is, print \"Vowel\".\n"
      ],
      "metadata": {
        "id": "XTpw6KRwmIm5"
      }
    },
    {
      "cell_type": "code",
      "source": [
        "num=input(\"enter a character\")\n",
        "if num in 'aeiouAEIOU':\n",
        "  print(\"Vowel\")"
      ],
      "metadata": {
        "colab": {
          "base_uri": "https://localhost:8080/"
        },
        "id": "MeaohKYImWnU",
        "outputId": "6f550450-763b-488f-8a73-001444c5f66c"
      },
      "execution_count": null,
      "outputs": [
        {
          "output_type": "stream",
          "name": "stdout",
          "text": [
            "enter a charactera\n",
            "Vowel\n"
          ]
        }
      ]
    },
    {
      "cell_type": "markdown",
      "source": [
        "Question 6: Write a Python program that checks if a given number is greater than 100. If it is, print \"Greater than 100\".\n"
      ],
      "metadata": {
        "id": "-KY7A3pdnGZv"
      }
    },
    {
      "cell_type": "code",
      "source": [
        "A=int(input(\"enter a number\"))\n",
        "if A>100:\n",
        "  print(\"Greater than 100\")"
      ],
      "metadata": {
        "colab": {
          "base_uri": "https://localhost:8080/"
        },
        "id": "NNW_RTVUnLHf",
        "outputId": "c4bdf736-887f-40be-b8e5-9f07f7e7fda4"
      },
      "execution_count": null,
      "outputs": [
        {
          "output_type": "stream",
          "name": "stdout",
          "text": [
            "enter a number200\n",
            "Greater than 100\n"
          ]
        }
      ]
    },
    {
      "cell_type": "markdown",
      "source": [
        "Question 7: Write a Python program that checks if a given string is empty. If it is, print \"Empty string\".\n"
      ],
      "metadata": {
        "id": "dFJZzw1jnTB4"
      }
    },
    {
      "cell_type": "code",
      "source": [
        "num=input(\"enter a string\")\n",
        "if len(num)==0:\n",
        "  print(\"Empty string\")"
      ],
      "metadata": {
        "colab": {
          "base_uri": "https://localhost:8080/"
        },
        "id": "MAvdoYNMnWHw",
        "outputId": "67886b47-45ee-4efb-d625-3b946cfc0e95"
      },
      "execution_count": null,
      "outputs": [
        {
          "name": "stdout",
          "output_type": "stream",
          "text": [
            "enter a stringsaniya\n"
          ]
        }
      ]
    },
    {
      "cell_type": "markdown",
      "source": [
        "Question 8: Write a Python program that checks if a given number is divisible by both 5 and 7. If it is, print \"Divisible by 5 and 7\".\n"
      ],
      "metadata": {
        "id": "QHdhQWhtnwmn"
      }
    },
    {
      "cell_type": "code",
      "source": [
        "A=int(input(\"enter a number\"))\n",
        "if A%5==0 and A%7==0:\n",
        "  print(\"Divisible by 5 and 7\")"
      ],
      "metadata": {
        "colab": {
          "base_uri": "https://localhost:8080/"
        },
        "id": "QtCgySnVnzjG",
        "outputId": "1134cfdd-0082-40ca-86d0-6abc3634732d"
      },
      "execution_count": null,
      "outputs": [
        {
          "output_type": "stream",
          "name": "stdout",
          "text": [
            "enter a number35\n",
            "Divisible by 5 and 7\n"
          ]
        }
      ]
    },
    {
      "cell_type": "markdown",
      "source": [
        "Question 9: Write a Python program that checks if a given list contains any negative numbers. If it does, print \"List contains negative numbers\".\n"
      ],
      "metadata": {
        "id": "81Gn9itkn8fs"
      }
    },
    {
      "cell_type": "code",
      "source": [
        "A=[1,2,3,4,5]\n",
        "if -1 in A:\n",
        "  print(\"List contains negative numbers\")"
      ],
      "metadata": {
        "id": "Dtb3YBvDoRx-"
      },
      "execution_count": null,
      "outputs": []
    },
    {
      "cell_type": "markdown",
      "source": [
        "Question 10: Write a Python program that checks if a given word is a palindrome. If it is, print \"Palindrome\""
      ],
      "metadata": {
        "id": "t-LrZeTEob8N"
      }
    },
    {
      "cell_type": "code",
      "source": [
        "num=input(\"enter a word\")\n",
        "if num==num[::-1]:\n",
        "  print(\"Palindrome\")"
      ],
      "metadata": {
        "colab": {
          "base_uri": "https://localhost:8080/"
        },
        "id": "pJMlYFoaogVQ",
        "outputId": "42a766ad-c5d6-4247-be6a-4702891c25b7"
      },
      "execution_count": null,
      "outputs": [
        {
          "name": "stdout",
          "output_type": "stream",
          "text": [
            "enter a wordboy\n"
          ]
        }
      ]
    },
    {
      "cell_type": "markdown",
      "source": [
        "Question 1: Write a Python program that checks if a given number is positive. If it is, print \"Positive number\"; otherwise, print \"Negative number\".\n"
      ],
      "metadata": {
        "id": "5Ia83GkwpL6B"
      }
    },
    {
      "cell_type": "code",
      "source": [
        "num=int(input(\"enter a number\"))\n",
        "if num>0:\n",
        "  print(\"Positive number\")\n",
        "else:\n",
        "  print(\"Negative number\")"
      ],
      "metadata": {
        "colab": {
          "base_uri": "https://localhost:8080/"
        },
        "id": "gNUFcOfqpR8H",
        "outputId": "01d19fe6-7516-492d-9958-ac374e92b6f0"
      },
      "execution_count": null,
      "outputs": [
        {
          "output_type": "stream",
          "name": "stdout",
          "text": [
            "enter a number55\n",
            "Positive number\n"
          ]
        }
      ]
    },
    {
      "cell_type": "markdown",
      "source": [
        "Question 2: Write a Python program that checks if a given string is empty. If it is, print \"Empty string\"; otherwise, print \"Non-empty string\".\n"
      ],
      "metadata": {
        "id": "oENplxIDpWY_"
      }
    },
    {
      "cell_type": "code",
      "source": [
        "num=input(\"enter a string\")\n",
        "if len(num)==0:\n",
        "  print(\"Empty string\")\n",
        "else:\n",
        "  print(\"Non-empty string\")"
      ],
      "metadata": {
        "colab": {
          "base_uri": "https://localhost:8080/"
        },
        "id": "zTED1UYqpbA9",
        "outputId": "235f4c7f-50d0-4e19-8106-f28df8a93224"
      },
      "execution_count": null,
      "outputs": [
        {
          "output_type": "stream",
          "name": "stdout",
          "text": [
            "enter a stringsaniya\n",
            "Non-empty string\n"
          ]
        }
      ]
    },
    {
      "cell_type": "markdown",
      "source": [
        "Question 3: Write a Python program that checks if a given number is even. If it is, print \"Even number\"; otherwise, print \"Odd number\".\n"
      ],
      "metadata": {
        "id": "f1nhy9uDpgyD"
      }
    },
    {
      "cell_type": "code",
      "source": [
        "num=int(input(\"enter a number\"))\n",
        "if num%2==0:\n",
        "  print(\"Even number\")\n",
        "else:\n",
        "  print(\"Odd number\")"
      ],
      "metadata": {
        "colab": {
          "base_uri": "https://localhost:8080/"
        },
        "id": "X6E7hZJ1pkd8",
        "outputId": "a15f2cf1-b834-4b93-ff0a-40316dd3d077"
      },
      "execution_count": null,
      "outputs": [
        {
          "output_type": "stream",
          "name": "stdout",
          "text": [
            "enter a number45\n",
            "Odd number\n"
          ]
        }
      ]
    },
    {
      "cell_type": "markdown",
      "source": [
        "Question 4: Write a Python program that checks if a given character is a vowel. If it is, print \"Vowel\"; otherwise, print \"Consonant\".\n"
      ],
      "metadata": {
        "id": "OcURIwu-priI"
      }
    },
    {
      "cell_type": "code",
      "source": [
        "num=input(\"enter a character\")\n",
        "if num in 'aeiouAEIOU':\n",
        "  print(\"Vowel\")\n",
        "else:\n",
        "  print(\"Consonant\")"
      ],
      "metadata": {
        "colab": {
          "base_uri": "https://localhost:8080/"
        },
        "id": "7qd2KK3CpuZS",
        "outputId": "eed027ab-4d57-4412-e79c-b1debb2dd23a"
      },
      "execution_count": null,
      "outputs": [
        {
          "output_type": "stream",
          "name": "stdout",
          "text": [
            "enter a characters\n",
            "Consonant\n"
          ]
        }
      ]
    },
    {
      "cell_type": "markdown",
      "source": [
        "Question 5: Write a Python program that checks if a given year is a leap year. If it is, print \"Leap year\"; otherwise, print \"Not a leap year\"."
      ],
      "metadata": {
        "id": "Kau5CoKdp0Ft"
      }
    },
    {
      "cell_type": "code",
      "source": [
        "num=int(input(\"enter a year\"))\n",
        "if num%4==0:\n",
        "  print(\"Leap year\")\n",
        "else:\n",
        "  print(\"Not a leap year\")"
      ],
      "metadata": {
        "colab": {
          "base_uri": "https://localhost:8080/"
        },
        "id": "POGQiJnIp3a8",
        "outputId": "eb625b9b-9e8f-41b4-e735-2c3abb7f2b7b"
      },
      "execution_count": null,
      "outputs": [
        {
          "output_type": "stream",
          "name": "stdout",
          "text": [
            "enter a year2023\n",
            "Not a leap year\n"
          ]
        }
      ]
    },
    {
      "cell_type": "markdown",
      "source": [
        "Question 6: Write a Python program that checks if a given number is divisible by 3. If it is, print \"Divisible by 3\"; otherwise, print \"Not divisible by 3\".\n"
      ],
      "metadata": {
        "id": "uE55CoRzp7QX"
      }
    },
    {
      "cell_type": "code",
      "source": [
        "num=int(input(\"enter a number\"))\n",
        "if num%3==0:\n",
        "  print(\"Divisible by 3\")\n",
        "else:\n",
        "  print(\"Not divisible by 3\")"
      ],
      "metadata": {
        "colab": {
          "base_uri": "https://localhost:8080/"
        },
        "id": "uiXog2z0p-Sv",
        "outputId": "c5057b3a-8aeb-4f0d-dd16-4038fee60e8e"
      },
      "execution_count": null,
      "outputs": [
        {
          "output_type": "stream",
          "name": "stdout",
          "text": [
            "enter a number35\n",
            "Not divisible by 3\n"
          ]
        }
      ]
    },
    {
      "cell_type": "markdown",
      "source": [
        "Question 7: Write a Python program that checks if a given string is a palindrome. If it is, print \"Palindrome\"; otherwise, print \"Not a palindrome\".\n"
      ],
      "metadata": {
        "id": "cJhihzmzqDFP"
      }
    },
    {
      "cell_type": "code",
      "source": [
        "num=input(\"enter a string\")\n",
        "if num==num[::-1]:\n",
        "  print(\"Palindrome\")\n",
        "else:\n",
        "  print(\"Not a palindrome\")"
      ],
      "metadata": {
        "colab": {
          "base_uri": "https://localhost:8080/"
        },
        "id": "G1VP7DNXqGdx",
        "outputId": "1b3ee8ef-aedf-45a8-f2d6-7092037bb976"
      },
      "execution_count": null,
      "outputs": [
        {
          "output_type": "stream",
          "name": "stdout",
          "text": [
            "enter a stringsaniya\n",
            "Not a palindrome\n"
          ]
        }
      ]
    },
    {
      "cell_type": "markdown",
      "source": [
        "Question 8: Write a Python program that checks if a given list is empty. If it is, print \"Empty list\"; otherwise, print \"Non-empty list\".\n"
      ],
      "metadata": {
        "id": "3aNzD90BqL1q"
      }
    },
    {
      "cell_type": "code",
      "source": [
        "num=[1,2,3,4,5]\n",
        "if len(num)==0:\n",
        "  print(\"Empty list\")\n",
        "else:\n",
        "  print(\"Non-empty list\")"
      ],
      "metadata": {
        "colab": {
          "base_uri": "https://localhost:8080/"
        },
        "id": "QphJYrE5qPnZ",
        "outputId": "25d5ab88-ff58-41fe-9adb-92b53e9c29b9"
      },
      "execution_count": null,
      "outputs": [
        {
          "output_type": "stream",
          "name": "stdout",
          "text": [
            "Non-empty list\n"
          ]
        }
      ]
    },
    {
      "cell_type": "markdown",
      "source": [
        "Question 9: Write a Python program that checks if a given number is greater than, less than, or equal to 50. Print the corresponding message.\n"
      ],
      "metadata": {
        "id": "_E5j4m2vqUJZ"
      }
    },
    {
      "cell_type": "code",
      "source": [
        "num=int(input(\"enter a number\"))\n",
        "if num>50:\n",
        "  print(\"greater than 50\")\n",
        "elif num<50:\n",
        "  print(\"less than 50\")\n",
        "else:\n",
        "  print(\"equal to 50\")"
      ],
      "metadata": {
        "colab": {
          "base_uri": "https://localhost:8080/"
        },
        "id": "_eXmP5gKqZPn",
        "outputId": "09019d4e-e431-4b11-e291-cabf5aec15ca"
      },
      "execution_count": null,
      "outputs": [
        {
          "output_type": "stream",
          "name": "stdout",
          "text": [
            "enter a number67\n",
            "greater than 50\n"
          ]
        }
      ]
    },
    {
      "cell_type": "markdown",
      "source": [
        "Question 10: Write a Python program that checks if a given character is an uppercase letter. If it is, print \"Uppercase\"; otherwise, print \"Lowercase\".\n"
      ],
      "metadata": {
        "id": "vcc5iyX4qhg6"
      }
    },
    {
      "cell_type": "code",
      "source": [
        "num=input(\"enter a character\")\n",
        "if num.isupper():\n",
        "  print(\"Uppercase\")\n",
        "else:\n",
        "  print(\"Lowercase\")"
      ],
      "metadata": {
        "colab": {
          "base_uri": "https://localhost:8080/"
        },
        "id": "s00Vode2qmVL",
        "outputId": "e363e9ca-f74f-48be-a112-2eac0446f1bd"
      },
      "execution_count": null,
      "outputs": [
        {
          "output_type": "stream",
          "name": "stdout",
          "text": [
            "enter a characterA\n",
            "Uppercase\n"
          ]
        }
      ]
    },
    {
      "cell_type": "markdown",
      "source": [
        "Question 1: Write a Python program that checks if a given number is positive, negative, or zero. Print the corresponding message.\n"
      ],
      "metadata": {
        "id": "WOL1uVH-qqOy"
      }
    },
    {
      "cell_type": "code",
      "source": [
        "num=int(input(\"enter a number\"))\n",
        "if num>0:\n",
        "  print(\"positive\")\n",
        "elif num<0:\n",
        "  print(\"negative\")\n",
        "else:\n",
        "  print(\"zero\")"
      ],
      "metadata": {
        "colab": {
          "base_uri": "https://localhost:8080/"
        },
        "id": "yHQYwdlUqwOd",
        "outputId": "ae38e3bd-6b06-4952-f46e-6145ef48e994"
      },
      "execution_count": null,
      "outputs": [
        {
          "output_type": "stream",
          "name": "stdout",
          "text": [
            "enter a number44\n",
            "positive\n"
          ]
        }
      ]
    },
    {
      "cell_type": "markdown",
      "source": [
        "Question 2: Write a Python program that compares two numbers and prints the larger number.\n"
      ],
      "metadata": {
        "id": "gxwLavnlq2Sd"
      }
    },
    {
      "cell_type": "code",
      "source": [
        "num1=int(input(\"enter a number\"))\n",
        "num2=int(input(\"enter a number\"))\n",
        "if num1>num2:\n",
        "  print(num1)\n",
        "else:\n",
        "  print(num2)"
      ],
      "metadata": {
        "colab": {
          "base_uri": "https://localhost:8080/"
        },
        "id": "risUzgoXq5aW",
        "outputId": "5f19f058-f3c6-4953-d74d-290f01a24d81"
      },
      "execution_count": null,
      "outputs": [
        {
          "output_type": "stream",
          "name": "stdout",
          "text": [
            "enter a number44\n",
            "enter a number55\n",
            "55\n"
          ]
        }
      ]
    },
    {
      "cell_type": "markdown",
      "source": [
        "Question 3: Write a Python program that determines whether a given temperature is hot, warm, or cold. Print the corresponding message.\n"
      ],
      "metadata": {
        "id": "Lynu0HMArdSM"
      }
    },
    {
      "cell_type": "code",
      "source": [
        "num=int(input(\"enter a temperature\"))\n",
        "if num>30:\n",
        "  print(\"hot\")\n",
        "elif num>20:\n",
        "  print(\"warm\")\n",
        "else:\n",
        "  print(\"cold\")"
      ],
      "metadata": {
        "colab": {
          "base_uri": "https://localhost:8080/"
        },
        "id": "G9OrKiyQrgnF",
        "outputId": "4b4f19e3-38e0-4cde-d3a0-8d59807d34b3"
      },
      "execution_count": null,
      "outputs": [
        {
          "output_type": "stream",
          "name": "stdout",
          "text": [
            "enter a temperature44\n",
            "hot\n"
          ]
        }
      ]
    },
    {
      "cell_type": "markdown",
      "source": [
        "Question 4: Write a Python program that checks if a given year is a leap year, a century year, or neither. Print the corresponding message"
      ],
      "metadata": {
        "id": "-5mPVFX4roIC"
      }
    },
    {
      "cell_type": "code",
      "source": [
        "num=int(input(\"enter a year\"))\n",
        "if num%4==0:\n",
        "  print(\"leap year\")\n",
        "elif num%100==0:\n",
        "  print(\"century year\")\n",
        "else:\n",
        "  print(\"neither\")"
      ],
      "metadata": {
        "colab": {
          "base_uri": "https://localhost:8080/"
        },
        "id": "h-YnNuh2rrA9",
        "outputId": "51ce4d11-e726-46d9-bb49-18f289a51eba"
      },
      "execution_count": null,
      "outputs": [
        {
          "output_type": "stream",
          "name": "stdout",
          "text": [
            "enter a year2023\n",
            "neither\n"
          ]
        }
      ]
    },
    {
      "cell_type": "markdown",
      "source": [
        "Question 5: Write a Python program that categorizes a given character into uppercase letter, lowercase letter, digit, or special character. Print the corresponding message.\n"
      ],
      "metadata": {
        "id": "ZDsnz9garxdj"
      }
    },
    {
      "cell_type": "code",
      "source": [
        "num=input(\"enter a character\")\n",
        "if num.isupper():\n",
        "  print(\"uppercase letter\")\n",
        "elif num.islower():\n",
        "  print(\"lowercase letter\")\n",
        "elif num.isdigit():\n",
        "  print(\"digit\")\n",
        "else:\n",
        "  print(\"special character\")"
      ],
      "metadata": {
        "colab": {
          "base_uri": "https://localhost:8080/"
        },
        "id": "qDZngR6ir0-g",
        "outputId": "8dfbaf71-a6fb-4d04-dc84-b2d32339efc7"
      },
      "execution_count": null,
      "outputs": [
        {
          "output_type": "stream",
          "name": "stdout",
          "text": [
            "enter a characterSANIYA\n",
            "uppercase letter\n"
          ]
        }
      ]
    },
    {
      "cell_type": "markdown",
      "source": [
        "Question 6: Write a Python program that calculates the discount percentage based on the purchase amount. Print the corresponding discount percentage.\n"
      ],
      "metadata": {
        "id": "09OcCbbir6bI"
      }
    },
    {
      "cell_type": "code",
      "source": [
        "num=int(input(\"enter a purchase amount\"))\n",
        "if num>1000:\n",
        "  print(\"discount percentage is 10%\")\n",
        "elif num>500:\n",
        "  print(\"discount percentage is 5%\")\n",
        "else:\n",
        "  print(\"discount percentage is 0%\")"
      ],
      "metadata": {
        "colab": {
          "base_uri": "https://localhost:8080/"
        },
        "id": "7Is-y8q2r-LJ",
        "outputId": "ac2de2a8-8c94-47af-bd1c-1e985deeb48b"
      },
      "execution_count": null,
      "outputs": [
        {
          "output_type": "stream",
          "name": "stdout",
          "text": [
            "enter a purchase amount500\n",
            "discount percentage is 0%\n"
          ]
        }
      ]
    },
    {
      "cell_type": "markdown",
      "source": [
        "Question 7: Write a Python program that checks if a given number is divisible by 2, 3, 5, or none of them. Print the corresponding message.\n"
      ],
      "metadata": {
        "id": "MpTukPMzsITi"
      }
    },
    {
      "cell_type": "code",
      "source": [
        "num=int(input(\"enter a number\"))\n",
        "if num%2==0:\n",
        "  print(\"divisible by 2\")\n",
        "elif num%3==0:\n",
        "  print(\"divisible by 3\")\n",
        "else:\n",
        "  print(\"not divisible\")"
      ],
      "metadata": {
        "colab": {
          "base_uri": "https://localhost:8080/"
        },
        "id": "CV1oX3V3sMLm",
        "outputId": "df1b1f5c-77fa-4df6-cfd3-5170ab8f8737"
      },
      "execution_count": null,
      "outputs": [
        {
          "output_type": "stream",
          "name": "stdout",
          "text": [
            "enter a number1\n",
            "not divisible\n"
          ]
        }
      ]
    },
    {
      "cell_type": "markdown",
      "source": [
        "Question 8: Write a Python program that determines the grade based on the percentage obtained. Print the corresponding grade.\n"
      ],
      "metadata": {
        "id": "-JKw-g0-sgCZ"
      }
    },
    {
      "cell_type": "code",
      "source": [
        "A=int(input(\"enter a percentage\"))\n",
        "if A>90:\n",
        "  print(\"A\")\n",
        "elif A>80:\n",
        "  print(\"B\")\n",
        "else:\n",
        "  print(\"C\")"
      ],
      "metadata": {
        "colab": {
          "base_uri": "https://localhost:8080/"
        },
        "id": "nPz3IsU6swWI",
        "outputId": "c7d8f0b4-175a-494c-da95-87fc0fee3b95"
      },
      "execution_count": null,
      "outputs": [
        {
          "output_type": "stream",
          "name": "stdout",
          "text": [
            "enter a percentage44\n",
            "C\n"
          ]
        }
      ]
    },
    {
      "cell_type": "markdown",
      "source": [
        "Question 9: Write a Python program that checks if a given number is within a specific range. Print the corresponding message.\n"
      ],
      "metadata": {
        "id": "Y7hBsCf7s-Q6"
      }
    },
    {
      "cell_type": "code",
      "source": [
        "A=int(input(\"enter a number\"))\n",
        "if A>10 and A<20:\n",
        "  print(\"within a specific range\")\n",
        "else:\n",
        "  print(\"not within a specific range\")"
      ],
      "metadata": {
        "colab": {
          "base_uri": "https://localhost:8080/"
        },
        "id": "ft7UdlI-tBm9",
        "outputId": "c1e68fad-3a62-4f7e-8ae0-5cd63f3dc508"
      },
      "execution_count": null,
      "outputs": [
        {
          "output_type": "stream",
          "name": "stdout",
          "text": [
            "enter a number44\n",
            "not within a specific range\n"
          ]
        }
      ]
    },
    {
      "cell_type": "markdown",
      "source": [
        "Question 10: Write a Python program that checks if a given string is an English word, a number, or a combination of both. Print the corresponding message."
      ],
      "metadata": {
        "id": "DyFyIIOutF02"
      }
    },
    {
      "cell_type": "code",
      "source": [
        "A=input(\"enter a string\")\n",
        "if A.isalpha():\n",
        "  print(\"English word\")\n",
        "elif A.isdigit():\n",
        "  print(\"number\")\n",
        "else:\n",
        "  print(\"combination of both\")"
      ],
      "metadata": {
        "colab": {
          "base_uri": "https://localhost:8080/"
        },
        "id": "Lyq37TXmtJYJ",
        "outputId": "7a33dba5-be61-449a-9a6d-226fd0ee13f3"
      },
      "execution_count": null,
      "outputs": [
        {
          "output_type": "stream",
          "name": "stdout",
          "text": [
            "enter a stringsan123\n",
            "combination of both\n"
          ]
        }
      ]
    }
  ]
}