{
  "nbformat": 4,
  "nbformat_minor": 0,
  "metadata": {
    "colab": {
      "provenance": [],
      "include_colab_link": true
    },
    "kernelspec": {
      "name": "python3",
      "display_name": "Python 3"
    },
    "language_info": {
      "name": "python"
    }
  },
  "cells": [
    {
      "cell_type": "markdown",
      "metadata": {
        "id": "view-in-github",
        "colab_type": "text"
      },
      "source": [
        "<a href=\"https://colab.research.google.com/github/Saniya1th/Anudip-Assignment/blob/main/class_work_of_list.ipynb\" target=\"_parent\"><img src=\"https://colab.research.google.com/assets/colab-badge.svg\" alt=\"Open In Colab\"/></a>"
      ]
    },
    {
      "cell_type": "markdown",
      "source": [
        "# 1. Write a Python program to sum all the elements in a list.\n",
        "# Sample Input: [1, 2, 3, 4, 5]\n",
        "# Expected Output: Sum = 15\n"
      ],
      "metadata": {
        "id": "fU9eZG1XoURg"
      }
    },
    {
      "cell_type": "code",
      "source": [
        "my_list = [1, 2, 3, 4, 5]"
      ],
      "metadata": {
        "id": "CHsqkBPqoXV2"
      },
      "execution_count": null,
      "outputs": []
    },
    {
      "cell_type": "code",
      "source": [
        "print(sum(my_list))"
      ],
      "metadata": {
        "colab": {
          "base_uri": "https://localhost:8080/"
        },
        "id": "CIdp_VK-opVf",
        "outputId": "d19c5bc5-90a2-45c5-adf8-2f752a93d1b0"
      },
      "execution_count": null,
      "outputs": [
        {
          "output_type": "stream",
          "name": "stdout",
          "text": [
            "15\n"
          ]
        }
      ]
    },
    {
      "cell_type": "markdown",
      "source": [
        "### 2. Write a Python program to find the largest element in a list.\n",
        "# Sample Input: [10, 20, 4, 45, 99]\n",
        "# Expected Output: Largest Element = 99\n"
      ],
      "metadata": {
        "id": "Ae8kC-6upnrt"
      }
    },
    {
      "cell_type": "code",
      "source": [
        "my_list = [10, 20, 4, 45, 99]"
      ],
      "metadata": {
        "id": "nhOfQ5f-posj"
      },
      "execution_count": null,
      "outputs": []
    },
    {
      "cell_type": "code",
      "source": [
        "max(my_list)"
      ],
      "metadata": {
        "colab": {
          "base_uri": "https://localhost:8080/"
        },
        "id": "PLtxXakzptCQ",
        "outputId": "76590c0f-7ef3-48f4-a660-c8a91ef18bb1"
      },
      "execution_count": null,
      "outputs": [
        {
          "output_type": "execute_result",
          "data": {
            "text/plain": [
              "99"
            ]
          },
          "metadata": {},
          "execution_count": 13
        }
      ]
    },
    {
      "cell_type": "markdown",
      "source": [
        "### 3. Write a Python program to count the number of elements in a list.\n",
        "### Sample Input: [1, 2, 3, 4, 5]\n",
        "### Expected Output: Count = 5\n"
      ],
      "metadata": {
        "id": "KuLcmKjRpyv4"
      }
    },
    {
      "cell_type": "code",
      "source": [
        "my_list = [1, 2, 3, 4, 5]"
      ],
      "metadata": {
        "id": "b_1afqW_p50K"
      },
      "execution_count": null,
      "outputs": []
    },
    {
      "cell_type": "code",
      "source": [
        "len(my_list)"
      ],
      "metadata": {
        "colab": {
          "base_uri": "https://localhost:8080/"
        },
        "id": "dft1QZDfp9SI",
        "outputId": "fc4cabee-b3be-44f7-c7e4-a84494e87f36"
      },
      "execution_count": null,
      "outputs": [
        {
          "output_type": "execute_result",
          "data": {
            "text/plain": [
              "5"
            ]
          },
          "metadata": {},
          "execution_count": 17
        }
      ]
    },
    {
      "cell_type": "markdown",
      "source": [
        "#### 4. Write a Python program to find the average of elements in a list.\n",
        "# Sample Input: [1, 2, 3, 4, 5]\n",
        "# Expected Output: Average = 3.0\n",
        "\n"
      ],
      "metadata": {
        "id": "D9g4JWvVqiIV"
      }
    },
    {
      "cell_type": "code",
      "source": [
        "my_list = [1, 2, 3, 4, 5]\n"
      ],
      "metadata": {
        "id": "hWQOyIDeqnKy"
      },
      "execution_count": null,
      "outputs": []
    },
    {
      "cell_type": "code",
      "source": [
        "average = sum(my_list) / len(my_list)\n",
        "print(average)"
      ],
      "metadata": {
        "colab": {
          "base_uri": "https://localhost:8080/"
        },
        "id": "wT0Qy7Ubqsos",
        "outputId": "392bd9c4-4ef9-4851-cd07-eed58dc34042"
      },
      "execution_count": null,
      "outputs": [
        {
          "output_type": "stream",
          "name": "stdout",
          "text": [
            "3.0\n"
          ]
        }
      ]
    },
    {
      "cell_type": "markdown",
      "source": [
        "### 5. Write a Python program to reverse a list.\n",
        "# Sample Input: [1, 2, 3, 4, 5]\n",
        "# Expected Output: Reversed List = [5, 4, 3, 2, 1]\n"
      ],
      "metadata": {
        "id": "18S2K_uJrQlv"
      }
    },
    {
      "cell_type": "code",
      "source": [
        "my_list = [1, 2, 3, 4, 5]\n"
      ],
      "metadata": {
        "id": "oeD_E9XnrT1B"
      },
      "execution_count": null,
      "outputs": []
    },
    {
      "cell_type": "code",
      "source": [
        "my_list.reverse()\n",
        "print(my_list)"
      ],
      "metadata": {
        "colab": {
          "base_uri": "https://localhost:8080/"
        },
        "id": "Zgj9jvFdrqJT",
        "outputId": "1549b957-675a-4dd1-96f5-d413a0d91506"
      },
      "execution_count": null,
      "outputs": [
        {
          "output_type": "stream",
          "name": "stdout",
          "text": [
            "[5, 4, 3, 2, 1]\n"
          ]
        }
      ]
    },
    {
      "cell_type": "markdown",
      "source": [
        "### 6. Write a Python program to check if a given element exists in a list.\n",
        "## Sample Input: List = [1, 2, 3, 4, 5], Element = 3\n",
        "## Expected Output: Element exists in list.\n"
      ],
      "metadata": {
        "id": "R2eCudtMsBF9"
      }
    },
    {
      "cell_type": "code",
      "source": [
        "my_list = [1, 2, 3, 4, 5]\n"
      ],
      "metadata": {
        "id": "ghYHKMsEsHai"
      },
      "execution_count": null,
      "outputs": []
    },
    {
      "cell_type": "code",
      "source": [
        "element = 3\n",
        "new = my_list.count(element)\n",
        "if new == 0:\n",
        "  print(\"Element does not exist in list\")\n",
        "else:\n",
        "  print(\"Element exists in list\")"
      ],
      "metadata": {
        "colab": {
          "base_uri": "https://localhost:8080/"
        },
        "id": "hOv3vRcZtAYC",
        "outputId": "149c9e46-7e57-4535-bc3c-067d685bf9ff"
      },
      "execution_count": null,
      "outputs": [
        {
          "output_type": "stream",
          "name": "stdout",
          "text": [
            "Element exists in list\n"
          ]
        }
      ]
    },
    {
      "cell_type": "markdown",
      "source": [
        "### 7. Write a Python program to remove duplicate elements from a list.\n",
        "## Sample Input: [1, 2, 2, 3, 4, 4, 5]\n",
        "## Expected Output: List without duplicates = [1, 2, 3, 4, 5]\n"
      ],
      "metadata": {
        "id": "fcsqBEvrteAW"
      }
    },
    {
      "cell_type": "code",
      "source": [
        "my_list = [1, 2, 2, 3, 4, 4, 5]"
      ],
      "metadata": {
        "id": "FL86NYedtgko"
      },
      "execution_count": null,
      "outputs": []
    },
    {
      "cell_type": "code",
      "source": [
        "my_list = list(set(my_list))\n",
        "print(my_list)"
      ],
      "metadata": {
        "colab": {
          "base_uri": "https://localhost:8080/"
        },
        "id": "9Wh58R_utnuL",
        "outputId": "9bb9423c-c402-4b5f-ec74-8a8eb693e554"
      },
      "execution_count": null,
      "outputs": [
        {
          "output_type": "stream",
          "name": "stdout",
          "text": [
            "[1, 2, 3, 4, 5]\n"
          ]
        }
      ]
    },
    {
      "cell_type": "markdown",
      "source": [
        "### 8. Write a Python program to find the second largest element in a list.\n",
        "### Sample Input: [10, 20, 4, 45, 99]\n",
        "### Expected Output: Second Largest Element = 45"
      ],
      "metadata": {
        "id": "sA8kxazKuizW"
      }
    },
    {
      "cell_type": "code",
      "source": [
        "my_list = [10, 20, 4, 45, 99]"
      ],
      "metadata": {
        "id": "3d8KcnKBuoO7"
      },
      "execution_count": null,
      "outputs": []
    },
    {
      "cell_type": "code",
      "source": [
        "sorted_list = sorted(my_list)\n",
        "print(sorted_list[-2])"
      ],
      "metadata": {
        "colab": {
          "base_uri": "https://localhost:8080/"
        },
        "id": "DzuwCHfvusnl",
        "outputId": "57ab11e7-3652-4164-cfca-34ff43ec7ab7"
      },
      "execution_count": null,
      "outputs": [
        {
          "output_type": "stream",
          "name": "stdout",
          "text": [
            "45\n"
          ]
        }
      ]
    },
    {
      "cell_type": "markdown",
      "source": [
        "### 9. Write a Python program to sort elements in a list in ascending order.\n",
        "### Sample Input: [5, 2, 9, 1, 5, 6]\n",
        "### Expected Output: Sorted List = [1, 2, 5, 5, 6, 9]\n"
      ],
      "metadata": {
        "id": "PM13LMLNvn4l"
      }
    },
    {
      "cell_type": "code",
      "source": [
        "my_list = [5, 2, 9, 1, 5, 6]"
      ],
      "metadata": {
        "id": "UbZmKQKmvunu"
      },
      "execution_count": null,
      "outputs": []
    },
    {
      "cell_type": "code",
      "source": [
        "sorted_list = sorted(my_list)\n",
        "print(sorted_list)"
      ],
      "metadata": {
        "colab": {
          "base_uri": "https://localhost:8080/"
        },
        "id": "_Qxt9slDvz3_",
        "outputId": "d0271d64-395b-4c0f-ad93-995fb86d5700"
      },
      "execution_count": null,
      "outputs": [
        {
          "output_type": "stream",
          "name": "stdout",
          "text": [
            "[1, 2, 5, 5, 6, 9]\n"
          ]
        }
      ]
    },
    {
      "cell_type": "markdown",
      "source": [
        "### 10. Write a Python program to merge two lists and sort them.\n",
        "### Sample Input: List1 = [1, 5, 3], List2 = [8, 6, 2]\n",
        "### Expected Output: Merged and Sorted List = [1, 2, 3, 5, 6, 8]"
      ],
      "metadata": {
        "id": "UWMPtyV9v51S"
      }
    },
    {
      "cell_type": "code",
      "source": [
        "my_list1 = [1, 5, 3]\n",
        "my_list2 = [8, 6, 2]"
      ],
      "metadata": {
        "id": "Ayr5PYLSv97j"
      },
      "execution_count": null,
      "outputs": []
    },
    {
      "cell_type": "code",
      "source": [
        "merged_list = my_list1 + my_list2\n",
        "merged_list.sort()\n",
        "print(merged_list)"
      ],
      "metadata": {
        "colab": {
          "base_uri": "https://localhost:8080/"
        },
        "id": "e4q_pl3GwEq-",
        "outputId": "10b244e6-e689-4dae-def9-4a4c6091e4e0"
      },
      "execution_count": null,
      "outputs": [
        {
          "output_type": "stream",
          "name": "stdout",
          "text": [
            "[1, 2, 3, 5, 6, 8]\n"
          ]
        }
      ]
    },
    {
      "cell_type": "markdown",
      "source": [
        "##11.\tQuestion: Given a nested list nested_list_row = [[1, 2, 3], [4, 5, 6], [7, 8, 9]], how can you access the number 9 from the list? Write a Python program to achieve this.\n"
      ],
      "metadata": {
        "id": "RdIECIAswTzR"
      }
    },
    {
      "cell_type": "code",
      "source": [
        "my_list = [[1, 2, 3], [4, 5, 6], [7, 8, 9]]\n",
        "\n",
        "value = my_list[-1][-1]\n",
        "\n",
        "print(value)"
      ],
      "metadata": {
        "colab": {
          "base_uri": "https://localhost:8080/"
        },
        "id": "IfZJhcqHwVxh",
        "outputId": "93f8c10c-2fda-426d-d804-2a1d23e8c5a3"
      },
      "execution_count": null,
      "outputs": [
        {
          "output_type": "stream",
          "name": "stdout",
          "text": [
            "9\n"
          ]
        }
      ]
    },
    {
      "cell_type": "markdown",
      "source": [
        "##12.\tQuestion: Suppose you have a nested list nested_list_column = [[1, 2, 3], [4, 5, 6], [7, 8, 9]], how can you access the number 8 from the list? Write a Python program to achieve this.\n"
      ],
      "metadata": {
        "id": "zy8TliAHxdX9"
      }
    },
    {
      "cell_type": "code",
      "source": [
        "my_list = [[1, 2, 3], [4, 5, 6], [7, 8, 9]]\n",
        "\n",
        "value = my_list[-1][-2]\n",
        "\n",
        "print(value)"
      ],
      "metadata": {
        "colab": {
          "base_uri": "https://localhost:8080/"
        },
        "id": "ffd9YhSNxhbk",
        "outputId": "66ed1c43-2565-40c0-edfb-0865143596bc"
      },
      "execution_count": null,
      "outputs": [
        {
          "output_type": "stream",
          "name": "stdout",
          "text": [
            "8\n"
          ]
        }
      ]
    },
    {
      "cell_type": "markdown",
      "source": [
        "##13.\tQuestion: How can you access the number 100 from the nested list nested_list_column = [[1, 2, 3], [4, 5, 6], [7, 8, 9,[1,55,77,100]]?\n"
      ],
      "metadata": {
        "id": "cHmOfReGxpfb"
      }
    },
    {
      "cell_type": "code",
      "source": [
        "nested_list_column = [[1, 2, 3], [4, 5, 6], [7, 8, 9,[1,55,77,100]]]"
      ],
      "metadata": {
        "id": "itxIYhw5xti9"
      },
      "execution_count": null,
      "outputs": []
    },
    {
      "cell_type": "code",
      "source": [
        "value = nested_list_column[-1][-1][-1]\n",
        "\n",
        "print(value)"
      ],
      "metadata": {
        "colab": {
          "base_uri": "https://localhost:8080/"
        },
        "id": "UlvA0Rlrx3_M",
        "outputId": "436a5ee2-a56c-43ac-fcfb-50ddedb545f7"
      },
      "execution_count": null,
      "outputs": [
        {
          "output_type": "stream",
          "name": "stdout",
          "text": [
            "100\n"
          ]
        }
      ]
    },
    {
      "cell_type": "markdown",
      "source": [
        "###14.\tQuestion: How can you access the number 100 from the nested list nested_list_column = [[1, 2, 3], [4, 5, 6], [7, 8, 9, [1,55,77,100]] using negative indexing?"
      ],
      "metadata": {
        "id": "AyLXKQdryFad"
      }
    },
    {
      "cell_type": "code",
      "source": [
        "nested_list_column = [[1, 2, 3], [4, 5, 6], [7, 8, 9, [1,55,77,100]]]"
      ],
      "metadata": {
        "id": "Hok_4TLayISD"
      },
      "execution_count": null,
      "outputs": []
    },
    {
      "cell_type": "code",
      "source": [
        "value = nested_list_column[-1][-1][-1]\n",
        "print(value)"
      ],
      "metadata": {
        "colab": {
          "base_uri": "https://localhost:8080/"
        },
        "id": "iBqCS2n2yQPw",
        "outputId": "f0259184-631a-4093-dd8a-caa8f30be36a"
      },
      "execution_count": null,
      "outputs": [
        {
          "output_type": "stream",
          "name": "stdout",
          "text": [
            "100\n"
          ]
        }
      ]
    }
  ]
}