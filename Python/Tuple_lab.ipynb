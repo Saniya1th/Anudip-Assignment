{
  "nbformat": 4,
  "nbformat_minor": 0,
  "metadata": {
    "colab": {
      "provenance": [],
      "authorship_tag": "ABX9TyMnBXHXxcccHxU7Q309x8eU",
      "include_colab_link": true
    },
    "kernelspec": {
      "name": "python3",
      "display_name": "Python 3"
    },
    "language_info": {
      "name": "python"
    }
  },
  "cells": [
    {
      "cell_type": "markdown",
      "metadata": {
        "id": "view-in-github",
        "colab_type": "text"
      },
      "source": [
        "<a href=\"https://colab.research.google.com/github/Saniya1th/Anudip-Assignment/blob/main/Tuple_lab.ipynb\" target=\"_parent\"><img src=\"https://colab.research.google.com/assets/colab-badge.svg\" alt=\"Open In Colab\"/></a>"
      ]
    },
    {
      "cell_type": "code",
      "execution_count": null,
      "metadata": {
        "id": "iHEkYPyxRHEQ"
      },
      "outputs": [],
      "source": [
        "Question no 1: Given a tuple my_tuple = (10, 20, 30, 40, 50), how can you access the element 30 from the tuple using positive indexing? Write a Python program to achieve this.\n"
      ]
    },
    {
      "cell_type": "code",
      "source": [
        "my_tuple=(10,20,30,40,50)\n",
        "my_tuple[2]"
      ],
      "metadata": {
        "colab": {
          "base_uri": "https://localhost:8080/"
        },
        "id": "q-B0Ywc2RtBJ",
        "outputId": "33bc72e9-bf9f-4b7d-adce-05987f5a79ab"
      },
      "execution_count": null,
      "outputs": [
        {
          "output_type": "execute_result",
          "data": {
            "text/plain": [
              "30"
            ]
          },
          "metadata": {},
          "execution_count": 1
        }
      ]
    },
    {
      "cell_type": "markdown",
      "source": [
        "Question no 2: Suppose you have a tuple my_tuple = (15, 25, 35, 45, 55), how can you access the element 45 from the tuple using negative indexing? Write a Python program to achieve this.\n"
      ],
      "metadata": {
        "id": "KduY7UuASCY7"
      }
    },
    {
      "cell_type": "code",
      "source": [
        "my_tuple=(15,25,35,45,55)\n",
        "my_tuple[-2]"
      ],
      "metadata": {
        "colab": {
          "base_uri": "https://localhost:8080/"
        },
        "id": "_u75BmnESUAz",
        "outputId": "0060c010-e7cc-4005-f231-cbf965b2a57d"
      },
      "execution_count": null,
      "outputs": [
        {
          "output_type": "execute_result",
          "data": {
            "text/plain": [
              "45"
            ]
          },
          "metadata": {},
          "execution_count": 3
        }
      ]
    },
    {
      "cell_type": "markdown",
      "source": [
        "Question no 3: Given a tuple my_tuple = (1, 2, 3, (4, 5, 6)), how can you access the element 5 from the nested tuple within it using nested indexing? Write a Python program to achieve this.\n"
      ],
      "metadata": {
        "id": "_a_bSkkZSeMt"
      }
    },
    {
      "cell_type": "code",
      "source": [
        "my_tuple=(1,2,3,(4,5,6))\n",
        "my_tuple[3][1]"
      ],
      "metadata": {
        "colab": {
          "base_uri": "https://localhost:8080/"
        },
        "id": "z8KsPZV8Usi5",
        "outputId": "a31fc086-ce02-4e3b-8a16-76ef7ce529fd"
      },
      "execution_count": null,
      "outputs": [
        {
          "output_type": "execute_result",
          "data": {
            "text/plain": [
              "5"
            ]
          },
          "metadata": {},
          "execution_count": 5
        }
      ]
    },
    {
      "cell_type": "markdown",
      "source": [
        "Question no 4: Suppose you have a tuple my_tuple = (10, 20, 30, 40, 50), how can you slice the tuple to obtain (20, 30, 40)? Write a Python program to achieve this.\n"
      ],
      "metadata": {
        "id": "l-yDqJrKUxn7"
      }
    },
    {
      "cell_type": "code",
      "source": [
        "my_tuple=(10,20,30,40,50)\n",
        "my_tuple[1:4]"
      ],
      "metadata": {
        "colab": {
          "base_uri": "https://localhost:8080/"
        },
        "id": "y1J7y-LZU2QX",
        "outputId": "645e99f8-e84c-48c3-c111-25f7302ddeca"
      },
      "execution_count": null,
      "outputs": [
        {
          "output_type": "execute_result",
          "data": {
            "text/plain": [
              "(20, 30, 40)"
            ]
          },
          "metadata": {},
          "execution_count": 6
        }
      ]
    },
    {
      "cell_type": "markdown",
      "source": [
        "Question no 5: Given a tuple my_tuple = (1, 2, 3, 4, 5), how can you access the last element without knowing its index? Write a Python program to achieve this.\n",
        "\n"
      ],
      "metadata": {
        "id": "ay9VSeiYU8CO"
      }
    },
    {
      "cell_type": "code",
      "source": [
        "my_tuple=(1,2,3,4,5)\n",
        "my_tuple[-1]"
      ],
      "metadata": {
        "colab": {
          "base_uri": "https://localhost:8080/"
        },
        "id": "ay3MY5iFU_if",
        "outputId": "adccea37-1bdb-4c0c-f44b-c387dbf2acf0"
      },
      "execution_count": null,
      "outputs": [
        {
          "output_type": "execute_result",
          "data": {
            "text/plain": [
              "5"
            ]
          },
          "metadata": {},
          "execution_count": 7
        }
      ]
    },
    {
      "cell_type": "markdown",
      "source": [
        "Question no 6: Suppose you have two tuples tuple1 = (10, 20, 30) and tuple2 = (40, 50, 60), how can you concatenate them into a single tuple? Write a Python program to achieve this.\n"
      ],
      "metadata": {
        "id": "lCR5gFyWVEP9"
      }
    },
    {
      "cell_type": "code",
      "source": [
        "tuple1=(10,20,30)\n",
        "tuple2=(40,50,60)\n",
        "append=tuple1+tuple2\n",
        "print(append)"
      ],
      "metadata": {
        "colab": {
          "base_uri": "https://localhost:8080/"
        },
        "id": "PT1DSpHNVdxL",
        "outputId": "3cd03aa3-9bd7-4d24-e290-b8642f878a05"
      },
      "execution_count": null,
      "outputs": [
        {
          "output_type": "stream",
          "name": "stdout",
          "text": [
            "(10, 20, 30, 40, 50, 60)\n"
          ]
        }
      ]
    },
    {
      "cell_type": "markdown",
      "source": [
        "Question no 7: Given a tuple my_tuple = ('a', 'b', 'c', 'd', 'e'), how can you check if the element 'c' exists in the tuple? Write a Python program to achieve this.\n"
      ],
      "metadata": {
        "id": "WAXK6MChVtyC"
      }
    },
    {
      "cell_type": "code",
      "source": [
        "my_tuple=('a','b','c','d','e')\n",
        "'c' in my_tuple"
      ],
      "metadata": {
        "colab": {
          "base_uri": "https://localhost:8080/"
        },
        "id": "NKwwhXDGVxA4",
        "outputId": "dbfb7270-8f4e-4416-ee00-6ff99257326f"
      },
      "execution_count": null,
      "outputs": [
        {
          "output_type": "execute_result",
          "data": {
            "text/plain": [
              "True"
            ]
          },
          "metadata": {},
          "execution_count": 10
        }
      ]
    },
    {
      "cell_type": "markdown",
      "source": [
        "Question no 8: Suppose you have a tuple my_tuple = ('apple', 'banana', 'cherry', 'apple'), how can you count the number of occurrences of 'apple' in the tuple? Write a Python program to achieve this.\n"
      ],
      "metadata": {
        "id": "a7ui4AB9V4TY"
      }
    },
    {
      "cell_type": "code",
      "source": [
        "my_tuple=('apple','banana','cherry','apple')\n",
        "my_tuple.count('apple')"
      ],
      "metadata": {
        "colab": {
          "base_uri": "https://localhost:8080/"
        },
        "id": "QtGXlTfjV70k",
        "outputId": "41aa2da7-6625-47ff-ac6d-ac9060f11e0f"
      },
      "execution_count": null,
      "outputs": [
        {
          "output_type": "execute_result",
          "data": {
            "text/plain": [
              "2"
            ]
          },
          "metadata": {},
          "execution_count": 11
        }
      ]
    },
    {
      "cell_type": "markdown",
      "source": [
        "Question no 9: Given a tuple my_tuple = (3.14, 'hello', True, (1, 2, 3)), how can you access the nested tuple (1, 2, 3) from it? Write a Python program to achieve this.\n",
        "\n"
      ],
      "metadata": {
        "id": "mO_CLCj5hkCv"
      }
    },
    {
      "cell_type": "code",
      "source": [
        "my_tuple=(3.14,'hello',True,(1,2,3))\n",
        "my_tuple[3]"
      ],
      "metadata": {
        "colab": {
          "base_uri": "https://localhost:8080/"
        },
        "id": "_lF2pJiWhtCp",
        "outputId": "1e0dbd14-42ee-435c-eb18-a0e417adfea4"
      },
      "execution_count": null,
      "outputs": [
        {
          "output_type": "execute_result",
          "data": {
            "text/plain": [
              "(1, 2, 3)"
            ]
          },
          "metadata": {},
          "execution_count": 12
        }
      ]
    },
    {
      "cell_type": "markdown",
      "source": [
        "Question no 10: Suppose you have a tuple my_tuple = (10, 20, 30), how can you convert it into a list? Write a Python program to achieve this.\n"
      ],
      "metadata": {
        "id": "ncQoRkS-h2lQ"
      }
    },
    {
      "cell_type": "code",
      "source": [
        "my_tuple=(10,20,30)\n",
        "list(my_tuple)"
      ],
      "metadata": {
        "colab": {
          "base_uri": "https://localhost:8080/"
        },
        "id": "u39HJUJ_h8Oe",
        "outputId": "e163cdca-5775-4e4c-fc48-2532b454c310"
      },
      "execution_count": null,
      "outputs": [
        {
          "output_type": "execute_result",
          "data": {
            "text/plain": [
              "[10, 20, 30]"
            ]
          },
          "metadata": {},
          "execution_count": 13
        }
      ]
    },
    {
      "cell_type": "markdown",
      "source": [
        "Question no 12: Suppose you have a tuple my_tuple = (10, 20, 30, 40, 50), how can you find the smallest and largest elements in the tuple? Write a Python program to achieve this.\n"
      ],
      "metadata": {
        "id": "T_d8tnm7iBM4"
      }
    },
    {
      "cell_type": "code",
      "source": [
        "my_tuple=(10,20,30,40,50)\n",
        "print(min(my_tuple))\n",
        "print(max(my_tuple))"
      ],
      "metadata": {
        "colab": {
          "base_uri": "https://localhost:8080/"
        },
        "id": "u4J3ZNoEiFuG",
        "outputId": "be94afeb-b775-4393-8162-32837fccc05d"
      },
      "execution_count": null,
      "outputs": [
        {
          "output_type": "stream",
          "name": "stdout",
          "text": [
            "10\n",
            "50\n"
          ]
        }
      ]
    },
    {
      "cell_type": "markdown",
      "source": [
        "Question no 15: Given two tuples tuple1 = (1, 2, 3) and tuple2 = (4, 5, 6), how can you check if the two tuples are equal? Write a Python program to achieve this."
      ],
      "metadata": {
        "id": "Rp9hj8lViP6c"
      }
    },
    {
      "cell_type": "code",
      "source": [
        "tuple1=(1,2,3)\n",
        "tuple2=(4,5,6)\n",
        "tuple1==tuple2\n"
      ],
      "metadata": {
        "colab": {
          "base_uri": "https://localhost:8080/"
        },
        "id": "70ag8rviiSkV",
        "outputId": "66ba0a39-eb6a-4c73-e80b-61b83493e3be"
      },
      "execution_count": null,
      "outputs": [
        {
          "output_type": "execute_result",
          "data": {
            "text/plain": [
              "False"
            ]
          },
          "metadata": {},
          "execution_count": 16
        }
      ]
    }
  ]
}
