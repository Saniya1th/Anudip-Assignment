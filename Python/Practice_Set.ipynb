{
  "nbformat": 4,
  "nbformat_minor": 0,
  "metadata": {
    "colab": {
      "provenance": [],
      "authorship_tag": "ABX9TyMHwLTs19neOj9XZbNe3EIH",
      "include_colab_link": true
    },
    "kernelspec": {
      "name": "python3",
      "display_name": "Python 3"
    },
    "language_info": {
      "name": "python"
    }
  },
  "cells": [
    {
      "cell_type": "markdown",
      "metadata": {
        "id": "view-in-github",
        "colab_type": "text"
      },
      "source": [
        "<a href=\"https://colab.research.google.com/github/Saniya1th/Anudip-Assignment/blob/main/Practice_Set.ipynb\" target=\"_parent\"><img src=\"https://colab.research.google.com/assets/colab-badge.svg\" alt=\"Open In Colab\"/></a>"
      ]
    },
    {
      "cell_type": "markdown",
      "source": [
        "1.##Take two numbers as input from the user and display their difference.\n"
      ],
      "metadata": {
        "id": "ABvkeGnaNeEn"
      }
    },
    {
      "cell_type": "code",
      "execution_count": null,
      "metadata": {
        "colab": {
          "base_uri": "https://localhost:8080/"
        },
        "id": "jmj5d_FsNYO6",
        "outputId": "f358350a-8d00-4ed6-bfe9-2c44751f8350"
      },
      "outputs": [
        {
          "output_type": "stream",
          "name": "stdout",
          "text": [
            "enter first number23\n",
            "enter second number10\n",
            "13\n"
          ]
        }
      ],
      "source": [
        "num1=int(input(\"enter first number\"))\n",
        "num2=int(input(\"enter second number\"))\n",
        "print(num1-num2)"
      ]
    },
    {
      "cell_type": "markdown",
      "source": [
        "2.## Write a Python program to calculate the perimeter of a rectangle using the formula: perimeter = 2 * (length + width).\n"
      ],
      "metadata": {
        "id": "cWDZ_DIEOIUe"
      }
    },
    {
      "cell_type": "code",
      "source": [
        "lenght=int(input(\"enter lenght\"))\n",
        "width=int(input(\"enter width\"))\n",
        "print(2*(lenght+width))"
      ],
      "metadata": {
        "colab": {
          "base_uri": "https://localhost:8080/"
        },
        "id": "NFU_vxGuOPcG",
        "outputId": "d07356eb-f9ab-4ba0-da19-2b9409eeb955"
      },
      "execution_count": null,
      "outputs": [
        {
          "output_type": "stream",
          "name": "stdout",
          "text": [
            "enter lenght10\n",
            "enter width20\n",
            "60\n"
          ]
        }
      ]
    },
    {
      "cell_type": "markdown",
      "source": [
        "3.## Take a number as input from the user and display 10 times that number.\n"
      ],
      "metadata": {
        "id": "k57KyZUVOrWS"
      }
    },
    {
      "cell_type": "code",
      "source": [
        "num1=int(input(\"enter a number\"))\n",
        "result=num1*10\n",
        "print(\"10 times the number is:\",result)"
      ],
      "metadata": {
        "colab": {
          "base_uri": "https://localhost:8080/"
        },
        "id": "EktjTW0SOw3l",
        "outputId": "894a629e-58dc-4aed-ac39-595d73ee3d3c"
      },
      "execution_count": null,
      "outputs": [
        {
          "output_type": "stream",
          "name": "stdout",
          "text": [
            "enter a number5\n",
            "10 times the number is: 50\n"
          ]
        }
      ]
    },
    {
      "cell_type": "markdown",
      "source": [
        "4.## Write a Python program to calculate the average of four numbers entered by the user.\n"
      ],
      "metadata": {
        "id": "mkplhlrtQuLw"
      }
    },
    {
      "cell_type": "code",
      "source": [
        "num1=int(input(\"enter a 1st number\"))\n",
        "num2=int(input(\"enter a 2nd number\"))\n",
        "num3=int(input(\"enter a 3rd number\"))\n",
        "num4=int(input(\"enter a 4th number\"))\n",
        "print((num1+num2+num3+num4)/4)\n",
        "\n"
      ],
      "metadata": {
        "colab": {
          "base_uri": "https://localhost:8080/"
        },
        "id": "n1WI1w_XQ1nF",
        "outputId": "963748af-b73a-4985-b9c2-3efdc3085f44"
      },
      "execution_count": null,
      "outputs": [
        {
          "output_type": "stream",
          "name": "stdout",
          "text": [
            "enter a 1st number10\n",
            "enter a 2nd number20\n",
            "enter a 3rd number30\n",
            "enter a 4th number40\n",
            "25.0\n"
          ]
        }
      ]
    },
    {
      "cell_type": "markdown",
      "source": [
        "5.## Write a Python program to swap two numbers using a temporary variable.\n"
      ],
      "metadata": {
        "id": "JnYSXHvVVRBb"
      }
    },
    {
      "cell_type": "code",
      "source": [
        "a=10\n",
        "b=20\n",
        "temp=a\n",
        "a=b\n",
        "b=temp\n",
        "print(a)\n",
        "print(b)"
      ],
      "metadata": {
        "colab": {
          "base_uri": "https://localhost:8080/"
        },
        "id": "udrsFVeGVcgX",
        "outputId": "4cf81a99-ec0e-448e-eade-ead8ad5fcf81"
      },
      "execution_count": null,
      "outputs": [
        {
          "output_type": "stream",
          "name": "stdout",
          "text": [
            "20\n",
            "10\n"
          ]
        }
      ]
    },
    {
      "cell_type": "markdown",
      "source": [
        "6.## Take three numbers as input from the user and display their sum and product.\n"
      ],
      "metadata": {
        "id": "CryHNBZdV1JR"
      }
    },
    {
      "cell_type": "code",
      "source": [
        "num1=int(input(\"enter a 1st number\"))\n",
        "num2=int(input(\"enter a 2nd number\"))\n",
        "num3=int(input(\"enter a 3rd number\"))\n",
        "sum=(num1+num2+num3)\n",
        "product=(num1*num2*num3)\n",
        "print(sum)\n",
        "print(product)\n"
      ],
      "metadata": {
        "colab": {
          "base_uri": "https://localhost:8080/"
        },
        "id": "V48aHkmvWUQk",
        "outputId": "ac979f46-b359-40a4-b426-b76e8e4061a7"
      },
      "execution_count": null,
      "outputs": [
        {
          "output_type": "stream",
          "name": "stdout",
          "text": [
            "enter a 1st number1\n",
            "enter a 2nd number2\n",
            "enter a 3rd number3\n",
            "6\n",
            "6\n"
          ]
        }
      ]
    },
    {
      "cell_type": "markdown",
      "source": [
        "7.## Write a Python program to take two numbers as input and display the result of their multiplication.\n"
      ],
      "metadata": {
        "id": "j-ZYeaSRXOgc"
      }
    },
    {
      "cell_type": "code",
      "source": [
        "num1=int(input(\"enter a 1st number\"))\n",
        "num2=int(input(\"enter a 2nd number\"))\n",
        "result=(num1*num2)\n",
        "print(\"result of multiplying the two number is:\",\"\",result)\n"
      ],
      "metadata": {
        "colab": {
          "base_uri": "https://localhost:8080/"
        },
        "id": "0Oqb1fmQXT1d",
        "outputId": "21dc94c1-462e-4a61-9bb7-4f53f04f5ef1"
      },
      "execution_count": null,
      "outputs": [
        {
          "output_type": "stream",
          "name": "stdout",
          "text": [
            "enter a 1st number10\n",
            "enter a 2nd number20\n",
            "result of multiplying the two number is:  200\n"
          ]
        }
      ]
    },
    {
      "cell_type": "markdown",
      "source": [
        "8.## Take two numbers as input and display the result of their subtraction.\n"
      ],
      "metadata": {
        "id": "ggtlQCEPZMXB"
      }
    },
    {
      "cell_type": "code",
      "source": [
        "num1=int(input(\"enter a 1st number\"))\n",
        "num2=int(input(\"enter a 2nd number\"))\n",
        "result=(num1-num2)\n",
        "print(\"result of substraction of two numbers is:\",result)"
      ],
      "metadata": {
        "colab": {
          "base_uri": "https://localhost:8080/"
        },
        "id": "fZpOTU5DZS4A",
        "outputId": "322cd999-d792-46f2-da5e-006138acf43f"
      },
      "execution_count": null,
      "outputs": [
        {
          "output_type": "stream",
          "name": "stdout",
          "text": [
            "enter a 1st number10\n",
            "enter a 2nd number2\n",
            "result of substraction of two numbers is: 8\n"
          ]
        }
      ]
    },
    {
      "cell_type": "markdown",
      "source": [
        "9.## Write a Python program to find the result of dividing two numbers and display the quotient only.\n"
      ],
      "metadata": {
        "id": "ffzfQmD0bABr"
      }
    },
    {
      "cell_type": "code",
      "source": [
        "num1=int(input(\"enter a 1st number\"))\n",
        "num2=int(input(\"enter a 2nd number\"))\n",
        "quotient=(num1//num2)\n",
        "print(\"result of quotient is:\",quotient)\n"
      ],
      "metadata": {
        "colab": {
          "base_uri": "https://localhost:8080/"
        },
        "id": "kdqvwUpybH_Q",
        "outputId": "9e6c5f15-c711-4674-cd46-02321e490d1e"
      },
      "execution_count": null,
      "outputs": [
        {
          "output_type": "stream",
          "name": "stdout",
          "text": [
            "enter a 1st number10\n",
            "enter a 2nd number5\n",
            "result of quotient is: 2\n"
          ]
        }
      ]
    },
    {
      "cell_type": "markdown",
      "source": [
        "10.## Take two numbers as input and display the result of their modulus operation (remainder).\n"
      ],
      "metadata": {
        "id": "MHS3na93dCK6"
      }
    },
    {
      "cell_type": "code",
      "source": [
        "num1=int(input(\"enter a 1st number\"))\n",
        "num2=int(input(\"enter a 2nd number\"))\n",
        "remainder=(num1%num2)\n",
        "print(\"result of remainder is:\",remainder)"
      ],
      "metadata": {
        "colab": {
          "base_uri": "https://localhost:8080/"
        },
        "id": "mgGuuNSsdHCb",
        "outputId": "6517b665-0e6d-4ef2-b78b-f58d7a8de922"
      },
      "execution_count": null,
      "outputs": [
        {
          "output_type": "stream",
          "name": "stdout",
          "text": [
            "enter a 1st number5\n",
            "enter a 2nd number5\n",
            "result of remainder is: 0\n"
          ]
        }
      ]
    },
    {
      "cell_type": "markdown",
      "source": [
        "11.## Write a Python program to calculate the simple interest using the formula: SI = (P * R * T) / 100.\n"
      ],
      "metadata": {
        "id": "MxhICq6DdyWc"
      }
    },
    {
      "cell_type": "code",
      "source": [
        "P=int(input(\"enter a number\"))\n",
        "R=int(input(\"enter a number\"))\n",
        "T=int(input(\"enter a number\"))\n",
        "SI=(P*R*T)/100\n",
        "print(SI)"
      ],
      "metadata": {
        "colab": {
          "base_uri": "https://localhost:8080/"
        },
        "id": "c2OaeSVYd4So",
        "outputId": "c986bf79-f831-448f-e816-46ec92bcefb5"
      },
      "execution_count": null,
      "outputs": [
        {
          "output_type": "stream",
          "name": "stdout",
          "text": [
            "enter a number10\n",
            "enter a number20\n",
            "enter a number30\n",
            "60.0\n"
          ]
        }
      ]
    },
    {
      "cell_type": "markdown",
      "source": [
        "12.## Take the radius as input and calculate the circumference of a circle using the formula: C = 2 * π * r (use 3.14159 for π).\n"
      ],
      "metadata": {
        "id": "0Imm03TRfY35"
      }
    },
    {
      "cell_type": "code",
      "source": [
        "r=int(input(\"enter a radius\"))\n",
        "pi=3.14159\n",
        "C=2*pi*r\n",
        "print(\"circumference of circle is:\",C)"
      ],
      "metadata": {
        "id": "f2KytbGSfjHq",
        "colab": {
          "base_uri": "https://localhost:8080/"
        },
        "outputId": "ece43460-62f9-465c-86ba-6363ac4e133a"
      },
      "execution_count": null,
      "outputs": [
        {
          "output_type": "stream",
          "name": "stdout",
          "text": [
            "enter a radius10\n",
            "circumference of circle is: 62.8318\n"
          ]
        }
      ]
    },
    {
      "cell_type": "markdown",
      "source": [
        "13. Write a Python program to calculate the area of a square using the formula: area = side * side.\n"
      ],
      "metadata": {
        "id": "WKYNXJzmmJrf"
      }
    },
    {
      "cell_type": "code",
      "source": [
        "side=int(input(\"enter a side\"))\n",
        "area=side*side\n",
        "print(\"area of a square is:\",area)"
      ],
      "metadata": {
        "colab": {
          "base_uri": "https://localhost:8080/"
        },
        "id": "PJJolNT0mPmR",
        "outputId": "fa90d49f-4088-4142-e5ac-d620af3d465c"
      },
      "execution_count": null,
      "outputs": [
        {
          "output_type": "stream",
          "name": "stdout",
          "text": [
            "enter a side10\n",
            "area of a square is: 100\n"
          ]
        }
      ]
    },
    {
      "cell_type": "markdown",
      "source": [
        "14.## Take two numbers as input and display their exponential result using the power operator ().\n"
      ],
      "metadata": {
        "id": "rRe5iMBOmrHs"
      }
    },
    {
      "cell_type": "code",
      "source": [
        "num1 = int(input(\"enter a number\"))\n",
        "power=int(input(\"enter a power\"))\n",
        "exponential=num1**power\n",
        "print(\"exponential result is:\",exponential)\n"
      ],
      "metadata": {
        "colab": {
          "base_uri": "https://localhost:8080/"
        },
        "id": "YDzC-GiWm4gM",
        "outputId": "65bde5ed-a8c8-42e6-a51e-b50dc1ed2abc"
      },
      "execution_count": null,
      "outputs": [
        {
          "output_type": "stream",
          "name": "stdout",
          "text": [
            "enter a number2\n",
            "enter a power2\n",
            "exponential result is: 4\n"
          ]
        }
      ]
    },
    {
      "cell_type": "markdown",
      "source": [
        "15.## Write a Python program to calculate the area of a circle using the formula: area = π * r^2.\n"
      ],
      "metadata": {
        "id": "peA3I-a7of-N"
      }
    },
    {
      "cell_type": "code",
      "source": [
        "r=int(input(\"enter a number\"))\n",
        "pi=3.14\n",
        "area=pi*r**2\n",
        "print(\"area of circle is:\",area)"
      ],
      "metadata": {
        "colab": {
          "base_uri": "https://localhost:8080/"
        },
        "id": "kDXqPBAhom91",
        "outputId": "05f43fd4-3c47-417b-fee5-cd029cb158a5"
      },
      "execution_count": null,
      "outputs": [
        {
          "output_type": "stream",
          "name": "stdout",
          "text": [
            "enter a number5\n",
            "area of circle is: 78.5\n"
          ]
        }
      ]
    },
    {
      "cell_type": "markdown",
      "source": [
        "16.## Take the base and exponent as input and display the result of base raised to the exponent.\n"
      ],
      "metadata": {
        "id": "5Cztsk8bpWGJ"
      }
    },
    {
      "cell_type": "code",
      "source": [
        "base=int(input(\"enter a base\"))\n",
        "exponent=int(input(\"enter a exponent\"))\n",
        "result=pow(base,exponent)\n",
        "print(\"result of base raised to the exponent is:\",result)"
      ],
      "metadata": {
        "colab": {
          "base_uri": "https://localhost:8080/"
        },
        "id": "scMNAYczpbo1",
        "outputId": "8845833a-cfae-4d0b-a3e8-257e9207c1a0"
      },
      "execution_count": null,
      "outputs": [
        {
          "output_type": "stream",
          "name": "stdout",
          "text": [
            "enter a base7\n",
            "enter a exponent5\n",
            "result of base raised to the exponent is: 16807\n"
          ]
        }
      ]
    },
    {
      "cell_type": "markdown",
      "source": [
        "17.## Write a Python program to convert an amount in kilometers to meters (1 km = 1000 meters).\n"
      ],
      "metadata": {
        "id": "rggPZ5g7rPDh"
      }
    },
    {
      "cell_type": "code",
      "source": [
        "kilometers=int(input(\"enter a number\"))\n",
        "meters=1000*kilometers\n",
        "print(f\"kilometers is equalt to:\", meters)\n"
      ],
      "metadata": {
        "colab": {
          "base_uri": "https://localhost:8080/"
        },
        "id": "fUu7mZONrW86",
        "outputId": "9e4cb2db-38d0-4dfd-f53b-c55d41cd6bf1"
      },
      "execution_count": null,
      "outputs": [
        {
          "output_type": "stream",
          "name": "stdout",
          "text": [
            "enter a number10\n",
            "kilometers is equalt to: 10000\n"
          ]
        }
      ]
    },
    {
      "cell_type": "markdown",
      "source": [
        "18.## Take a number as input and display whether it is an even or odd number using modulus (%).\n"
      ],
      "metadata": {
        "id": "bC-hrz99tk4Y"
      }
    },
    {
      "cell_type": "code",
      "source": [
        "num1=int(input(\"enter a number\"))\n",
        "if(num1%2 ==0):\n",
        "  print(\"given number is even\")\n",
        "else:\n",
        "  print(\"given number is odd\")"
      ],
      "metadata": {
        "colab": {
          "base_uri": "https://localhost:8080/"
        },
        "id": "1ZszGuh1tqIl",
        "outputId": "48d4b73f-8516-4396-a4a2-7f9b8d64f304"
      },
      "execution_count": null,
      "outputs": [
        {
          "output_type": "stream",
          "name": "stdout",
          "text": [
            "enter a number5\n",
            "given number is odd\n"
          ]
        }
      ]
    },
    {
      "cell_type": "markdown",
      "source": [
        "19. Write a Python program to calculate the total price of items where the price per item and number of items are provided by the user.\n"
      ],
      "metadata": {
        "id": "KL5OHJy6vVB9"
      }
    },
    {
      "cell_type": "code",
      "source": [
        "price=int(input(\"enter a number\"))\n",
        "items=int(input(\"enter a number\"))\n",
        "total_price=price*items\n",
        "print(\"total price of items is:\",total_price)"
      ],
      "metadata": {
        "id": "WeAgoVH2zFaC",
        "colab": {
          "base_uri": "https://localhost:8080/"
        },
        "outputId": "70aa53db-352e-4213-ed91-2295c2b3f6b0"
      },
      "execution_count": null,
      "outputs": [
        {
          "output_type": "stream",
          "name": "stdout",
          "text": [
            "enter a number100\n",
            "enter a number50\n",
            "total price of items is: 5000\n"
          ]
        }
      ]
    },
    {
      "cell_type": "markdown",
      "source": [
        "20.## Take three numbers as input from the user and display the result of multiplying the first number by the sum of the second and third numbers.\n"
      ],
      "metadata": {
        "id": "r7wJuCqaQKes"
      }
    },
    {
      "cell_type": "code",
      "source": [
        "num1=int(input(\"enter a number\"))\n",
        "num2=int(input(\"enter a number\"))\n",
        "num3=int(input(\"enter a number\"))\n",
        "result=num1*(num2+num3)\n",
        "print(\"multiplication of numbes:\",result)\n"
      ],
      "metadata": {
        "colab": {
          "base_uri": "https://localhost:8080/"
        },
        "id": "x_R3SahnRKE2",
        "outputId": "4bbf967b-bdbc-4a87-c6b9-138df64ffffc"
      },
      "execution_count": null,
      "outputs": [
        {
          "output_type": "stream",
          "name": "stdout",
          "text": [
            "enter a number10\n",
            "enter a number20\n",
            "enter a number30\n",
            "multiplication of numbes: 500\n"
          ]
        }
      ]
    },
    {
      "cell_type": "markdown",
      "source": [
        "21.## Take the radius as input and calculate the circumference of a circle using the formula: C = 2 * π * r (use 3.14159 for π).\n"
      ],
      "metadata": {
        "id": "a69nIemnc_8P"
      }
    },
    {
      "cell_type": "code",
      "source": [
        "r=int(input(\"enter a radius\"))\n",
        "pi=3.14159\n",
        "C=2*pi*r\n",
        "print(\"circumference of circle is:\",C)"
      ],
      "metadata": {
        "colab": {
          "base_uri": "https://localhost:8080/"
        },
        "id": "7TNxLBsTdGn4",
        "outputId": "a08c03f7-e3fe-46f0-b1f7-73e5bbf586ad"
      },
      "execution_count": null,
      "outputs": [
        {
          "output_type": "stream",
          "name": "stdout",
          "text": [
            "enter a radius200\n",
            "circumference of circle is: 1256.636\n"
          ]
        }
      ]
    },
    {
      "cell_type": "markdown",
      "source": [
        "22. Write a Python program to calculate the area of a square using the formula: area = side * side.\n"
      ],
      "metadata": {
        "id": "hvfMZBaMdbWZ"
      }
    },
    {
      "cell_type": "code",
      "source": [
        "side=int(input(\"enter a side\"))\n",
        "area=side*side\n",
        "print(\"area of a square is:\",area)"
      ],
      "metadata": {
        "colab": {
          "base_uri": "https://localhost:8080/"
        },
        "id": "DXLD6wsxdelZ",
        "outputId": "271b51f9-7bd6-4049-9d90-b00c743112ae"
      },
      "execution_count": null,
      "outputs": [
        {
          "output_type": "stream",
          "name": "stdout",
          "text": [
            "enter a side10\n",
            "area of a square is: 100\n"
          ]
        }
      ]
    },
    {
      "cell_type": "markdown",
      "source": [
        "23. Take two numbers as input and display their exponential result using the power operator ().\n"
      ],
      "metadata": {
        "id": "orkLESDudo21"
      }
    },
    {
      "cell_type": "code",
      "source": [
        "num1 = int(input(\"enter a number\"))\n",
        "power=int(input(\"enter a power\"))\n",
        "exponential=num1**power\n",
        "print(\"exponential result is:\",exponential)\n"
      ],
      "metadata": {
        "colab": {
          "base_uri": "https://localhost:8080/"
        },
        "id": "cPEUeTobdtGe",
        "outputId": "aa0be1b4-4541-46b5-a7be-1db40079b324"
      },
      "execution_count": null,
      "outputs": [
        {
          "output_type": "stream",
          "name": "stdout",
          "text": [
            "enter a number100\n",
            "enter a power20\n",
            "exponential result is: 10000000000000000000000000000000000000000\n"
          ]
        }
      ]
    },
    {
      "cell_type": "markdown",
      "source": [
        "24. Write a Python program to calculate the area of a circle using the formula: area = π * r^2.\n"
      ],
      "metadata": {
        "id": "Kc-JX9m4d5IU"
      }
    },
    {
      "cell_type": "code",
      "source": [
        "r=int(input(\"enter a number\"))\n",
        "pi=3.14\n",
        "area=pi*r**2\n",
        "print(\"area of circle is:\",area)"
      ],
      "metadata": {
        "colab": {
          "base_uri": "https://localhost:8080/"
        },
        "id": "b31fgEAwd_ab",
        "outputId": "111bc5de-b663-46a2-8e21-09fd64b8e596"
      },
      "execution_count": null,
      "outputs": [
        {
          "output_type": "stream",
          "name": "stdout",
          "text": [
            "enter a number100\n",
            "area of circle is: 31400.0\n"
          ]
        }
      ]
    },
    {
      "cell_type": "markdown",
      "source": [
        "25. Take the base and exponent as input and display the result of base raised to the exponent.\n"
      ],
      "metadata": {
        "id": "lMGgzzECeire"
      }
    },
    {
      "cell_type": "code",
      "source": [
        "base=int(input(\"enter a base\"))\n",
        "exponent=int(input(\"enter a exponent\"))\n",
        "result=pow(base,exponent)\n",
        "print(\"result of base raised to the exponent is:\",result)"
      ],
      "metadata": {
        "colab": {
          "base_uri": "https://localhost:8080/"
        },
        "id": "rmMpbwd_emEB",
        "outputId": "aca0010b-027d-4832-cd2c-9b40aaab935c"
      },
      "execution_count": null,
      "outputs": [
        {
          "output_type": "stream",
          "name": "stdout",
          "text": [
            "enter a base10\n",
            "enter a exponent20\n",
            "result of base raised to the exponent is: 100000000000000000000\n"
          ]
        }
      ]
    },
    {
      "cell_type": "markdown",
      "source": [
        "26.## Write a Python program to convert an amount in kilometers to meters (1 km = 1000 meters).\n"
      ],
      "metadata": {
        "id": "ZPS-3iWYexUO"
      }
    },
    {
      "cell_type": "code",
      "source": [
        "kilometers=int(input(\"enter a number\"))\n",
        "meters=1000*kilometers\n",
        "print(f\"kilometers is equalt to:\", meters)\n"
      ],
      "metadata": {
        "colab": {
          "base_uri": "https://localhost:8080/"
        },
        "id": "uMsYBly1e03x",
        "outputId": "847b85c0-e937-4ebb-e561-a82b40a5a22f"
      },
      "execution_count": null,
      "outputs": [
        {
          "output_type": "stream",
          "name": "stdout",
          "text": [
            "enter a number20\n",
            "kilometers is equalt to: 20000\n"
          ]
        }
      ]
    },
    {
      "cell_type": "markdown",
      "source": [
        "27. Take a number as input and display whether it is an even or odd number using modulus (%).\n"
      ],
      "metadata": {
        "id": "F41hvFhbfGqg"
      }
    },
    {
      "cell_type": "code",
      "source": [
        "num1=int(input(\"enter a number\"))\n",
        "if(num1%2 ==0):\n",
        "  print(\"given number is even\")\n",
        "else:\n",
        "  print(\"given number is odd\")"
      ],
      "metadata": {
        "colab": {
          "base_uri": "https://localhost:8080/"
        },
        "id": "uM6rxvKkfST1",
        "outputId": "113ae595-ce41-42ba-b173-f6eefe584eff"
      },
      "execution_count": null,
      "outputs": [
        {
          "output_type": "stream",
          "name": "stdout",
          "text": [
            "enter a number10\n",
            "given number is even\n"
          ]
        }
      ]
    },
    {
      "cell_type": "markdown",
      "source": [
        "28.## Write a Python program to calculate the total price of items where the price per item and number of items are provided by the user.\n"
      ],
      "metadata": {
        "id": "teiS1jXOfguV"
      }
    },
    {
      "cell_type": "code",
      "source": [
        "price=int(input(\"enter a number\"))\n",
        "items=int(input(\"enter a number\"))\n",
        "total_price=price*items\n",
        "print(\"total price of items is:\",total_price)"
      ],
      "metadata": {
        "colab": {
          "base_uri": "https://localhost:8080/"
        },
        "id": "bTWkk7Aoflw_",
        "outputId": "fb08c58b-f4d2-4dd8-e081-0809f2af8275"
      },
      "execution_count": null,
      "outputs": [
        {
          "output_type": "stream",
          "name": "stdout",
          "text": [
            "enter a number10\n",
            "enter a number20\n",
            "total price of items is: 200\n"
          ]
        }
      ]
    },
    {
      "cell_type": "markdown",
      "source": [
        "29. Take three numbers as input from the user and display the result of multiplying the first number by the sum of the second and third numbers.\n"
      ],
      "metadata": {
        "id": "Og1WquhXfzp7"
      }
    },
    {
      "cell_type": "code",
      "source": [
        "num1=int(input(\"enter a number\"))\n",
        "num2=int(input(\"enter a number\"))\n",
        "num3=int(input(\"enter a number\"))\n",
        "result=num1*(num2+num3)\n",
        "print(\"multiplication of numbes:\",result)"
      ],
      "metadata": {
        "colab": {
          "base_uri": "https://localhost:8080/"
        },
        "id": "lgskdUqwf3kP",
        "outputId": "7aaee667-6d78-4fe1-e0b5-36b13969a90c"
      },
      "execution_count": null,
      "outputs": [
        {
          "output_type": "stream",
          "name": "stdout",
          "text": [
            "enter a number200\n",
            "enter a number200\n",
            "enter a number200\n",
            "multiplication of numbes: 80000\n"
          ]
        }
      ]
    },
    {
      "cell_type": "markdown",
      "source": [
        "30.## Write a Python program to calculate the speed using the formula: speed = distance/time."
      ],
      "metadata": {
        "id": "OIplgRz_gA8e"
      }
    },
    {
      "cell_type": "code",
      "source": [
        "Distance=int(input(\"Enter The Distance= \"))\n",
        "Time=int(input(\"Enter the Time = \"))\n",
        "Speed=Distance/Time\n",
        "print(\"The Speed is\",Speed)"
      ],
      "metadata": {
        "colab": {
          "base_uri": "https://localhost:8080/"
        },
        "id": "ZTD_5cZngIRa",
        "outputId": "b5d21f3f-b20c-4ccd-ba2d-ac42a84cf4ac"
      },
      "execution_count": null,
      "outputs": [
        {
          "output_type": "stream",
          "name": "stdout",
          "text": [
            "Enter The Distance= 200\n",
            "Enter the Time = 20\n",
            "The Speed is 10.0\n"
          ]
        }
      ]
    }
  ]
}
