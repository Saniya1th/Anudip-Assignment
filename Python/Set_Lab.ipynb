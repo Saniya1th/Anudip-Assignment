{
  "nbformat": 4,
  "nbformat_minor": 0,
  "metadata": {
    "colab": {
      "provenance": [],
      "authorship_tag": "ABX9TyNAU8S9JOEXNHVv7k0FQ7mk",
      "include_colab_link": true
    },
    "kernelspec": {
      "name": "python3",
      "display_name": "Python 3"
    },
    "language_info": {
      "name": "python"
    }
  },
  "cells": [
    {
      "cell_type": "markdown",
      "metadata": {
        "id": "view-in-github",
        "colab_type": "text"
      },
      "source": [
        "<a href=\"https://colab.research.google.com/github/Saniya1th/Anudip-Assignment/blob/main/Set_Lab.ipynb\" target=\"_parent\"><img src=\"https://colab.research.google.com/assets/colab-badge.svg\" alt=\"Open In Colab\"/></a>"
      ]
    },
    {
      "cell_type": "markdown",
      "source": [
        "Question 1: Given a set my_set = {10, 20, 30, 40, 50}, how can you access the element 30 from the set? Write a Python program to achieve this.\n",
        "\n"
      ],
      "metadata": {
        "id": "jvjqUQBtUEek"
      }
    },
    {
      "cell_type": "code",
      "source": [
        "my_set={10,20,30,40,50}\n",
        "my_set.remove(10)\n",
        "my_set.remove(20)\n",
        "my_set.remove(40)\n",
        "my_set.remove(50)\n",
        "print(my_set)"
      ],
      "metadata": {
        "colab": {
          "base_uri": "https://localhost:8080/"
        },
        "id": "sycpKMrGUxae",
        "outputId": "da39d11d-c419-47e9-c497-5d663fa3adff"
      },
      "execution_count": null,
      "outputs": [
        {
          "output_type": "stream",
          "name": "stdout",
          "text": [
            "{30}\n"
          ]
        }
      ]
    },
    {
      "cell_type": "markdown",
      "source": [
        "Question 2: Suppose you have a set my_set = {15, 25, 35, 45, 55}, how can you perform slicing on a set? Write a Python program to demonstrate.\n"
      ],
      "metadata": {
        "id": "cVZWmMC-UVJF"
      }
    },
    {
      "cell_type": "code",
      "source": [
        "my_set={15,25,35,45,55}\n",
        "my_set.remove(15)\n",
        "my_set.remove(35)\n",
        "my_set.remove(55)\n",
        "print(my_set)"
      ],
      "metadata": {
        "colab": {
          "base_uri": "https://localhost:8080/"
        },
        "id": "w31Tn4dVUWsm",
        "outputId": "455e5893-2b46-4b3b-aa7b-306afdafede2"
      },
      "execution_count": null,
      "outputs": [
        {
          "output_type": "stream",
          "name": "stdout",
          "text": [
            "{25, 45}\n"
          ]
        }
      ]
    },
    {
      "cell_type": "markdown",
      "source": [
        "Question 3: Given two sets set1 = {1, 2, 3} and set2 = {4, 5, 6}, how can you perform union operation on them? Write a Python program to achieve this.\n"
      ],
      "metadata": {
        "id": "xzK91KSFU88v"
      }
    },
    {
      "cell_type": "code",
      "source": [
        "set1={1,2,3}\n",
        "set2={4,5,6}\n",
        "print(set1.union(set2))"
      ],
      "metadata": {
        "colab": {
          "base_uri": "https://localhost:8080/"
        },
        "id": "amW3gDd2VBBu",
        "outputId": "f382b256-9af1-4ab6-80a7-ad8414aaa010"
      },
      "execution_count": null,
      "outputs": [
        {
          "output_type": "stream",
          "name": "stdout",
          "text": [
            "{1, 2, 3, 4, 5, 6}\n"
          ]
        }
      ]
    },
    {
      "cell_type": "markdown",
      "source": [
        "\n",
        "Question 4: Suppose you have a set my_set = {1, 2, 3, {4, 5, 6}}, how can you access the nested set {4, 5, 6} from it? Write a Python program to achieve this.\n",
        "\n"
      ],
      "metadata": {
        "id": "DEOaGF2DVGS2"
      }
    },
    {
      "cell_type": "code",
      "source": [
        "my_set={1,2,3,frozenset{4,5,6}}\n",
        "print(nested_set)\n"
      ],
      "metadata": {
        "colab": {
          "base_uri": "https://localhost:8080/",
          "height": 106
        },
        "id": "UOYiTOIhVQCQ",
        "outputId": "960d3c68-0495-4a08-c292-35d4892ca3b2"
      },
      "execution_count": null,
      "outputs": [
        {
          "output_type": "error",
          "ename": "SyntaxError",
          "evalue": "invalid syntax. Perhaps you forgot a comma? (<ipython-input-15-e1dc8a201e9f>, line 1)",
          "traceback": [
            "\u001b[0;36m  File \u001b[0;32m\"<ipython-input-15-e1dc8a201e9f>\"\u001b[0;36m, line \u001b[0;32m1\u001b[0m\n\u001b[0;31m    my_set={1,2,3,frozenset{4,5,6}}\u001b[0m\n\u001b[0m                  ^\u001b[0m\n\u001b[0;31mSyntaxError\u001b[0m\u001b[0;31m:\u001b[0m invalid syntax. Perhaps you forgot a comma?\n"
          ]
        }
      ]
    },
    {
      "cell_type": "markdown",
      "source": [
        "Question 5: Given a set my_set = {1, 2, 3, 4, 5}, how can you convert it to a list? Write a Python program to achieve this."
      ],
      "metadata": {
        "id": "p0hVJoPKWFmG"
      }
    },
    {
      "cell_type": "code",
      "source": [
        "my_set={1,2,3,4,5}\n",
        "print(list(my_set))"
      ],
      "metadata": {
        "colab": {
          "base_uri": "https://localhost:8080/"
        },
        "id": "ZcOB2Da1WKLP",
        "outputId": "9a3a63ef-fc82-46c4-ca8f-b7e5302472cc"
      },
      "execution_count": null,
      "outputs": [
        {
          "output_type": "stream",
          "name": "stdout",
          "text": [
            "[1, 2, 3, 4, 5]\n"
          ]
        }
      ]
    }
  ]
}
