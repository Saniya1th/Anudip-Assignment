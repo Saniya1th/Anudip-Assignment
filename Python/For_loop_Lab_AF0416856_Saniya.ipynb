{
  "nbformat": 4,
  "nbformat_minor": 0,
  "metadata": {
    "colab": {
      "provenance": [],
      "authorship_tag": "ABX9TyNe/1yn4g9+rbIA/A5f7dbx",
      "include_colab_link": true
    },
    "kernelspec": {
      "name": "python3",
      "display_name": "Python 3"
    },
    "language_info": {
      "name": "python"
    }
  },
  "cells": [
    {
      "cell_type": "markdown",
      "metadata": {
        "id": "view-in-github",
        "colab_type": "text"
      },
      "source": [
        "<a href=\"https://colab.research.google.com/github/Saniya1th/Anudip-Assignment/blob/main/For_loop_Lab_AF0416856_Saniya.ipynb\" target=\"_parent\"><img src=\"https://colab.research.google.com/assets/colab-badge.svg\" alt=\"Open In Colab\"/></a>"
      ]
    },
    {
      "cell_type": "markdown",
      "source": [
        "1.\tGiven a list [4, 8, 2, 10, 6], find the maximum number using a for loop.\n"
      ],
      "metadata": {
        "id": "vRJXm-6_UghT"
      }
    },
    {
      "cell_type": "code",
      "execution_count": null,
      "metadata": {
        "colab": {
          "base_uri": "https://localhost:8080/"
        },
        "id": "89pNiPhYUZD1",
        "outputId": "89538f85-f559-4979-884d-8758823d8ea1"
      },
      "outputs": [
        {
          "output_type": "stream",
          "name": "stdout",
          "text": [
            "The maximum number is: 10\n"
          ]
        }
      ],
      "source": [
        "numbers = [4, 8, 2, 10, 6]\n",
        "max_num = numbers[0]\n",
        "\n",
        "for num in numbers:\n",
        "    if num > max_num:\n",
        "        max_num = num\n",
        "\n",
        "print(\"The maximum number is:\", max_num)\n"
      ]
    },
    {
      "cell_type": "markdown",
      "source": [
        "2.\tTake input from the user and find the factorial of the number using a for loop.\n"
      ],
      "metadata": {
        "id": "dha9e-mHVWCc"
      }
    },
    {
      "cell_type": "code",
      "source": [
        "\n",
        "num = int(input(\"Enter a number to find its factorial: \"))\n",
        "\n",
        "factorial = 1\n",
        "\n",
        "if num < 0:\n",
        "    print(\"Factorial is not defined for negative numbers.\")\n",
        "elif num == 0:\n",
        "    print(\"The factorial of 0 is 1.\")\n",
        "else:\n",
        "    for i in range(1, num + 1):\n",
        "        factorial *= i\n",
        "\n",
        "    print(f\"The factorial of {num} is: {factorial}\")"
      ],
      "metadata": {
        "colab": {
          "base_uri": "https://localhost:8080/"
        },
        "id": "i70d1gTKVaU6",
        "outputId": "96b2f997-dffa-42dc-c54f-f0b187d6b84b"
      },
      "execution_count": null,
      "outputs": [
        {
          "output_type": "stream",
          "name": "stdout",
          "text": [
            "Enter a number to find its factorial: 5\n",
            "The factorial of 5 is: 120\n"
          ]
        }
      ]
    },
    {
      "cell_type": "markdown",
      "source": [
        "3.\tGiven a list ['apple', 'banana', 'cherry', 'date', 'fig'], print each element along with its index using a for loop.\n"
      ],
      "metadata": {
        "id": "4i_wKsWjVyy3"
      }
    },
    {
      "cell_type": "code",
      "source": [
        "fruits = ['apple', 'banana', 'cherry', 'date', 'fig']\n",
        "\n",
        "for index, fruit in enumerate(fruits):\n",
        "    print(f\"Index: {index}, Element: {fruit}\")"
      ],
      "metadata": {
        "colab": {
          "base_uri": "https://localhost:8080/"
        },
        "id": "MmPdeUhoV4HU",
        "outputId": "282d3483-c25a-47cc-dd30-e5a492952008"
      },
      "execution_count": null,
      "outputs": [
        {
          "output_type": "stream",
          "name": "stdout",
          "text": [
            "Index: 0, Element: apple\n",
            "Index: 1, Element: banana\n",
            "Index: 2, Element: cherry\n",
            "Index: 3, Element: date\n",
            "Index: 4, Element: fig\n"
          ]
        }
      ]
    },
    {
      "cell_type": "markdown",
      "source": [
        "ts index using a for loop.\n",
        "4.\tTake a string input from the user and count the number of uppercase letters using a for loop.(use char.isupper()😊)\n"
      ],
      "metadata": {
        "id": "LtaHez5JWD80"
      }
    },
    {
      "cell_type": "code",
      "source": [
        "user_input = input(\"Enter a string: \")\n",
        "\n",
        "uppercase_count = 0\n",
        "\n",
        "for char in user_input:\n",
        "    if char.isupper():\n",
        "        uppercase_count += 1\n",
        "print(f\"The number of uppercase letters is: {uppercase_count}\")"
      ],
      "metadata": {
        "colab": {
          "base_uri": "https://localhost:8080/"
        },
        "id": "TMYsoXA2WLAa",
        "outputId": "15a32d20-5954-4b8a-82c2-10dca08b75c5"
      },
      "execution_count": null,
      "outputs": [
        {
          "output_type": "stream",
          "name": "stdout",
          "text": [
            "Enter a string: SANIYA\n",
            "The number of uppercase letters is: 6\n"
          ]
        }
      ]
    },
    {
      "cell_type": "markdown",
      "source": [
        "5.\tGiven a list of integers [17, 25, 39, 42, 58, 71, 86, 93], find the sum of all the even numbers using a for loop.\n"
      ],
      "metadata": {
        "id": "LxoNiPTIWmol"
      }
    },
    {
      "cell_type": "code",
      "source": [
        "numbers = [17, 25, 39, 42, 58, 71, 86, 93]\n",
        "\n",
        "even_sum = 0;\n",
        "for num in numbers:\n",
        "    if num % 2 == 0:\n",
        "        even_sum += num\n",
        "print(f\"The sum of all even numbers is: {even_sum}\")"
      ],
      "metadata": {
        "colab": {
          "base_uri": "https://localhost:8080/"
        },
        "id": "QhsjXpp7WqZz",
        "outputId": "fdd3dfb9-22aa-4373-b3f8-fa53dfd8dad8"
      },
      "execution_count": null,
      "outputs": [
        {
          "output_type": "stream",
          "name": "stdout",
          "text": [
            "The sum of all even numbers is: 186\n"
          ]
        }
      ]
    },
    {
      "cell_type": "markdown",
      "source": [
        "6.\tGiven a list [3, 6, 9, 12, 15], calculate the product of all the elements using a for loop.\n"
      ],
      "metadata": {
        "id": "rhDPe5glW7FV"
      }
    },
    {
      "cell_type": "code",
      "source": [
        "numbers = [3, 6, 9, 12, 15]\n",
        "\n",
        "product = 1\n",
        "\n",
        "for num in numbers:\n",
        "    product *= num\n",
        "\n",
        "print(\"The product of all elements is:\", product)"
      ],
      "metadata": {
        "colab": {
          "base_uri": "https://localhost:8080/"
        },
        "id": "E9L95wxHW-kw",
        "outputId": "ec8bed9e-08cd-4191-8fab-5177161cb6d2"
      },
      "execution_count": null,
      "outputs": [
        {
          "output_type": "stream",
          "name": "stdout",
          "text": [
            "The product of all elements is: 29160\n"
          ]
        }
      ]
    },
    {
      "cell_type": "markdown",
      "source": [
        "7.\tGiven a list [2, 3, 5, 7, 11, 13, 17, 19], find the index of the first occurrence of the number 7 using a for loop."
      ],
      "metadata": {
        "id": "OxA8vq4wXZVZ"
      }
    },
    {
      "cell_type": "code",
      "source": [
        "numbers = [2, 3, 5, 7, 11, 13, 17, 19]\n",
        "\n",
        "index = -1\n",
        "\n",
        "for i, num in enumerate(numbers):\n",
        "    if num == 7:\n",
        "        index = i\n",
        "        break\n",
        "if index != -1:\n",
        "    print(\"The index of the first occurrence of 7 is:\", index)\n",
        "else:\n",
        "    print(\"7 is not in the list.\")"
      ],
      "metadata": {
        "colab": {
          "base_uri": "https://localhost:8080/"
        },
        "id": "b2vLVAhaXcxx",
        "outputId": "2e5897ac-c0a1-4f2e-abdb-c4cb81dff506"
      },
      "execution_count": null,
      "outputs": [
        {
          "output_type": "stream",
          "name": "stdout",
          "text": [
            "The index of the first occurrence of 7 is: 3\n"
          ]
        }
      ]
    }
  ]
}
