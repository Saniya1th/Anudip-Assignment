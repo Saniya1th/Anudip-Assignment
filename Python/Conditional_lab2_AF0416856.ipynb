{
  "nbformat": 4,
  "nbformat_minor": 0,
  "metadata": {
    "colab": {
      "provenance": [],
      "authorship_tag": "ABX9TyOmUSeymKXGAG4bWMBXim4A",
      "include_colab_link": true
    },
    "kernelspec": {
      "name": "python3",
      "display_name": "Python 3"
    },
    "language_info": {
      "name": "python"
    }
  },
  "cells": [
    {
      "cell_type": "markdown",
      "metadata": {
        "id": "view-in-github",
        "colab_type": "text"
      },
      "source": [
        "<a href=\"https://colab.research.google.com/github/Saniya1th/Anudip-Assignment/blob/main/Conditional_lab2_AF0416856.ipynb\" target=\"_parent\"><img src=\"https://colab.research.google.com/assets/colab-badge.svg\" alt=\"Open In Colab\"/></a>"
      ]
    },
    {
      "cell_type": "markdown",
      "source": [
        "1. Write a Python program to sum all the elements in a list.\n",
        "Sample Input: [1, 2, 3, 4, 5]\n",
        "Expected Output: Sum = 15\n"
      ],
      "metadata": {
        "id": "JZyqKqKd0VkV"
      }
    },
    {
      "cell_type": "code",
      "execution_count": null,
      "metadata": {
        "colab": {
          "base_uri": "https://localhost:8080/"
        },
        "id": "Z4EJ858a0T46",
        "outputId": "edf5bebc-5f62-430e-fe3d-728994970a3c"
      },
      "outputs": [
        {
          "output_type": "stream",
          "name": "stdout",
          "text": [
            "15\n"
          ]
        }
      ],
      "source": [
        "A=[1,2,3,4,5]\n",
        "sum=0\n",
        "for i in A:\n",
        "  sum=sum+i\n",
        "print(sum)"
      ]
    },
    {
      "cell_type": "markdown",
      "source": [
        " 2. Write a Python program to find the largest element in a list.\n",
        "Sample Input: [10, 20, 4, 45, 99]\n",
        "Expected Output: Largest Element = 99\n"
      ],
      "metadata": {
        "id": "VnD1T6nF0ukP"
      }
    },
    {
      "cell_type": "code",
      "source": [
        "A=[10,20,4,45,99]\n",
        "max=A[0]\n",
        "for i in A:\n",
        "  if i>max:\n",
        "    max=i\n",
        "print(max)"
      ],
      "metadata": {
        "colab": {
          "base_uri": "https://localhost:8080/"
        },
        "id": "pze_RS4502A2",
        "outputId": "dd2f5b5b-1b5e-4f99-d68c-d84a45f07c86"
      },
      "execution_count": null,
      "outputs": [
        {
          "output_type": "stream",
          "name": "stdout",
          "text": [
            "99\n"
          ]
        }
      ]
    },
    {
      "cell_type": "markdown",
      "source": [
        " 3. Write a Python program to count the number of elements in a list.\n",
        " Sample Input: [1, 2, 3, 4, 5]\n",
        " Expected Output: Count = 5\n"
      ],
      "metadata": {
        "id": "GyPnzJGU1BVL"
      }
    },
    {
      "cell_type": "code",
      "source": [
        "A=[1,2,3,4,5]\n",
        "count=0\n",
        "for i in A:\n",
        "  count=count+1\n",
        "print(count)"
      ],
      "metadata": {
        "colab": {
          "base_uri": "https://localhost:8080/"
        },
        "id": "YANr-1uF1Gf7",
        "outputId": "bebaf3b0-07eb-44a6-ae0e-71753eb9c15d"
      },
      "execution_count": null,
      "outputs": [
        {
          "output_type": "stream",
          "name": "stdout",
          "text": [
            "5\n"
          ]
        }
      ]
    },
    {
      "cell_type": "markdown",
      "source": [
        " 4. Write a Python program to find the average of elements in a list.\n",
        " Sample Input: [1, 2, 3, 4, 5]\n",
        "Expected Output: Average = 3.0\n",
        "\n"
      ],
      "metadata": {
        "id": "5lNgGUr41L4A"
      }
    },
    {
      "cell_type": "code",
      "source": [
        "A=[1,2,3,4,5]\n",
        "sum=0\n",
        "for i in A:\n",
        "  sum=sum+i\n",
        "avg=sum/len(A)\n",
        "print(avg)\n",
        "#"
      ],
      "metadata": {
        "colab": {
          "base_uri": "https://localhost:8080/"
        },
        "id": "tjzJ0Iys1S0O",
        "outputId": "c008fac3-a2a1-4775-9555-920016c9a5c8"
      },
      "execution_count": null,
      "outputs": [
        {
          "output_type": "stream",
          "name": "stdout",
          "text": [
            "3.0\n"
          ]
        }
      ]
    },
    {
      "cell_type": "markdown",
      "source": [
        " 5. Write a Python program to reverse a list.\n",
        " Sample Input: [1, 2, 3, 4, 5]\n",
        " Expected Output: Reversed List = [5, 4, 3, 2, 1]\n"
      ],
      "metadata": {
        "id": "HlSWYYlr1aiT"
      }
    },
    {
      "cell_type": "code",
      "source": [
        "A=[1,2,3,4,5]\n",
        "A.reverse()\n",
        "print(A)"
      ],
      "metadata": {
        "colab": {
          "base_uri": "https://localhost:8080/"
        },
        "id": "wyWOU1PA1gAr",
        "outputId": "4e787815-24cb-45a1-88d4-6b9151ff4cef"
      },
      "execution_count": null,
      "outputs": [
        {
          "output_type": "stream",
          "name": "stdout",
          "text": [
            "[5, 4, 3, 2, 1]\n"
          ]
        }
      ]
    },
    {
      "cell_type": "markdown",
      "source": [
        " 6. Write a Python program to check if a given element exists in a list.\n",
        " Sample Input: List = [1, 2, 3, 4, 5], Element = 3\n",
        " Expected Output: Element exists in list.\n"
      ],
      "metadata": {
        "id": "MoWdsl3p1nPr"
      }
    },
    {
      "cell_type": "code",
      "source": [
        "A=[1,2,3,4,5]\n",
        "if 3 in A:\n",
        "  print(\"Element exists in list\")"
      ],
      "metadata": {
        "colab": {
          "base_uri": "https://localhost:8080/"
        },
        "id": "Q5WVwg5t1sHO",
        "outputId": "cf728aef-536c-4fc1-d67a-14ad8c7735fb"
      },
      "execution_count": null,
      "outputs": [
        {
          "output_type": "stream",
          "name": "stdout",
          "text": [
            "Element exists in list\n"
          ]
        }
      ]
    },
    {
      "cell_type": "markdown",
      "source": [
        " 7. Write a Python program to remove duplicate elements from a list.\n",
        " Sample Input: [1, 2, 2, 3, 4, 4, 5]\n",
        " Expected Output: List without duplicates = [1, 2, 3, 4, 5]\n",
        "\n"
      ],
      "metadata": {
        "id": "8M9R26sZ146O"
      }
    },
    {
      "cell_type": "code",
      "source": [
        "A=[1,2,2,3,4,4,5]\n",
        "B=[]\n",
        "for i in A:\n",
        "  if i not in B:\n",
        "    B.append(i)\n",
        "print(B)"
      ],
      "metadata": {
        "colab": {
          "base_uri": "https://localhost:8080/"
        },
        "id": "qBTaT32T1-IS",
        "outputId": "ac0ae500-b56d-4f3d-b60d-840a5ef4af1c"
      },
      "execution_count": null,
      "outputs": [
        {
          "output_type": "stream",
          "name": "stdout",
          "text": [
            "[1, 2, 3, 4, 5]\n"
          ]
        }
      ]
    },
    {
      "cell_type": "markdown",
      "source": [
        " 8. Write a Python program to find the second largest element in a list.\n",
        " Sample Input: [10, 20, 4, 45, 99]\n",
        " Expected Output: Second Largest Element = 45"
      ],
      "metadata": {
        "id": "LnkHZsFO2GTe"
      }
    },
    {
      "cell_type": "code",
      "source": [
        "A=[10,20,4,45,99]\n",
        "A.sort()\n",
        "print(A[-2])"
      ],
      "metadata": {
        "colab": {
          "base_uri": "https://localhost:8080/"
        },
        "id": "CFa8WNW32Ndv",
        "outputId": "c1ef8819-3b35-4a44-b140-217666692e5a"
      },
      "execution_count": null,
      "outputs": [
        {
          "output_type": "stream",
          "name": "stdout",
          "text": [
            "45\n"
          ]
        }
      ]
    },
    {
      "cell_type": "markdown",
      "source": [
        "9. Write a Python program to sort elements in a list in ascending order.\n",
        " Sample Input: [5, 2, 9, 1, 5, 6]\n",
        " Expected Output: Sorted List = [1, 2, 5, 5, 6, 9]\n"
      ],
      "metadata": {
        "id": "r0AFateK2fI1"
      }
    },
    {
      "cell_type": "code",
      "source": [
        "A=[5,2,9,1,5,6]\n",
        "A.sort()\n",
        "print(A)"
      ],
      "metadata": {
        "colab": {
          "base_uri": "https://localhost:8080/"
        },
        "id": "9u8xv3Om2jiL",
        "outputId": "bab8e4f9-4ece-47c4-d091-5c364e163170"
      },
      "execution_count": null,
      "outputs": [
        {
          "output_type": "stream",
          "name": "stdout",
          "text": [
            "[1, 2, 5, 5, 6, 9]\n"
          ]
        }
      ]
    },
    {
      "cell_type": "markdown",
      "source": [
        "10. Write a Python program to merge two lists and sort them.\n",
        " Sample Input: List1 = [1, 5, 3], List2 = [8, 6, 2]\n",
        " Expected Output: Merged and Sorted List = [1, 2, 3, 5, 6, 8]"
      ],
      "metadata": {
        "id": "R_w7m-PW2u9S"
      }
    },
    {
      "cell_type": "code",
      "source": [
        "A=[1,5,3]\n",
        "B=[8,6,2]\n",
        "C=A+B\n",
        "C.sort()\n",
        "print(C)"
      ],
      "metadata": {
        "colab": {
          "base_uri": "https://localhost:8080/"
        },
        "id": "hp__q9dE2xJn",
        "outputId": "daf6ddf6-f9d5-4b93-ffa6-96ba76883279"
      },
      "execution_count": null,
      "outputs": [
        {
          "output_type": "stream",
          "name": "stdout",
          "text": [
            "[1, 2, 3, 5, 6, 8]\n"
          ]
        }
      ]
    },
    {
      "cell_type": "markdown",
      "source": [
        "11.\tQuestion: Given a nested list nested_list_row = [[1, 2, 3], [4, 5, 6], [7, 8, 9]], how can you access the number 9 from the list? Write a Python program to achieve this.\n"
      ],
      "metadata": {
        "id": "UiZ5d-DZ29ur"
      }
    },
    {
      "cell_type": "code",
      "source": [
        "A=[[1,2,3],[4,5,6],[7,8,9]]\n",
        "for i in A:\n",
        "  for j in i:\n",
        "    if j==9:\n",
        "      print(j)"
      ],
      "metadata": {
        "colab": {
          "base_uri": "https://localhost:8080/"
        },
        "id": "WGgC0gSp3AWQ",
        "outputId": "64629d42-66d5-4a1e-85db-52653e8fb26b"
      },
      "execution_count": null,
      "outputs": [
        {
          "output_type": "stream",
          "name": "stdout",
          "text": [
            "9\n"
          ]
        }
      ]
    },
    {
      "cell_type": "markdown",
      "source": [
        "12.\tQuestion: Suppose you have a nested list nested_list_column = [[1, 2, 3], [4, 5, 6], [7, 8, 9]], how can you access the number 8 from the list? Write a Python program to achieve this.\n"
      ],
      "metadata": {
        "id": "z8-ulkkX3Q7I"
      }
    },
    {
      "cell_type": "code",
      "source": [
        "A=[[1,2,3],[4,5,6],[7,8,9]]\n",
        "for i in A:\n",
        "  for j in i:\n",
        "    if j==8:\n",
        "      print(j)"
      ],
      "metadata": {
        "colab": {
          "base_uri": "https://localhost:8080/"
        },
        "id": "PgGEEKAR3VSq",
        "outputId": "6339bb9b-e1af-42a1-a19d-3954b549d65e"
      },
      "execution_count": null,
      "outputs": [
        {
          "output_type": "stream",
          "name": "stdout",
          "text": [
            "8\n"
          ]
        }
      ]
    },
    {
      "cell_type": "markdown",
      "source": [
        "13.\tQuestion: How can you access the number 100 from the nested list nested_list_column = [[1, 2, 3], [4, 5, 6], [7, 8, 9,[1,55,77,100]]?\n"
      ],
      "metadata": {
        "id": "djpQekef3dQ6"
      }
    },
    {
      "cell_type": "code",
      "source": [
        "A=[[1,2,3],[4,5,6],[7,8,9],[1,55,77,100]]\n",
        "for i in A:\n",
        "  for j in i:\n",
        "    if j==100:\n",
        "      print(j)"
      ],
      "metadata": {
        "colab": {
          "base_uri": "https://localhost:8080/"
        },
        "id": "-vQpyq-a3mws",
        "outputId": "e125f43f-7743-41db-91b9-5fced3669527"
      },
      "execution_count": null,
      "outputs": [
        {
          "output_type": "stream",
          "name": "stdout",
          "text": [
            "100\n"
          ]
        }
      ]
    },
    {
      "cell_type": "markdown",
      "source": [
        "14.\tQuestion: How can you access the number 100 from the nested list nested_list_column = [[1, 2, 3], [4, 5, 6], [7, 8, 9, [1,55,77,100]] using negative indexing?"
      ],
      "metadata": {
        "id": "ieKQlDVt4CO1"
      }
    },
    {
      "cell_type": "code",
      "source": [
        "nested_list_column = [[1, 2, 3], [4, 5, 6], [7, 8, 9, [1,55,77,100]]]\n"
      ],
      "metadata": {
        "id": "vXZQ3XSy4Fw_"
      },
      "execution_count": null,
      "outputs": []
    },
    {
      "cell_type": "code",
      "source": [
        "value = nested_list_column[-1][-1][-1]\n",
        "print(value)"
      ],
      "metadata": {
        "colab": {
          "base_uri": "https://localhost:8080/"
        },
        "id": "WildQgZ15Wrd",
        "outputId": "1b6e8b0c-a178-4ffc-ebb2-5e9ef2179b08"
      },
      "execution_count": null,
      "outputs": [
        {
          "output_type": "stream",
          "name": "stdout",
          "text": [
            "100\n"
          ]
        }
      ]
    }
  ]
}
