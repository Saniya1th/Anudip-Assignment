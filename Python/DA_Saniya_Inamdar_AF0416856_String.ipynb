{
  "nbformat": 4,
  "nbformat_minor": 0,
  "metadata": {
    "colab": {
      "provenance": [],
      "include_colab_link": true
    },
    "kernelspec": {
      "name": "python3",
      "display_name": "Python 3"
    },
    "language_info": {
      "name": "python"
    }
  },
  "cells": [
    {
      "cell_type": "markdown",
      "metadata": {
        "id": "view-in-github",
        "colab_type": "text"
      },
      "source": [
        "<a href=\"https://colab.research.google.com/github/Saniya1th/Anudip-Assignment/blob/main/DA_Saniya_Inamdar_AF0416856_String.ipynb\" target=\"_parent\"><img src=\"https://colab.research.google.com/assets/colab-badge.svg\" alt=\"Open In Colab\"/></a>"
      ]
    },
    {
      "cell_type": "markdown",
      "source": [
        "Q1 Write a Python program that accepts a string from user. Your program should create and display a new string where the first and last characters have been exchanged.\n",
        "\n",
        "For example if the user enters the string 'HELLO' then new string would be 'OELLH'"
      ],
      "metadata": {
        "id": "R7YYTlRTJGnu"
      }
    },
    {
      "cell_type": "code",
      "execution_count": null,
      "metadata": {
        "id": "xUgKDWcJJBwb",
        "colab": {
          "base_uri": "https://localhost:8080/"
        },
        "outputId": "8ca8b2ce-b699-4aa1-d410-245a515a2e02"
      },
      "outputs": [
        {
          "output_type": "stream",
          "name": "stdout",
          "text": [
            "Enter a string: HELLO\n",
            "OELLH\n"
          ]
        }
      ],
      "source": [
        "A=input(\"Enter a string: \")\n",
        "print(A[-1]+A[1:-1]+A[0])"
      ]
    },
    {
      "cell_type": "markdown",
      "source": [
        "Q2 Write a Python program that accepts a string from user. Your program should create a new string in reverse of first string and display it.\n",
        "\n",
        "For example if the user enters the string 'EXAM' then new string would be 'MAXE'"
      ],
      "metadata": {
        "id": "KlBKKZUfJLWy"
      }
    },
    {
      "cell_type": "code",
      "source": [
        "A=input(\"Enter a string: \")\n",
        "print(A[::-1])"
      ],
      "metadata": {
        "id": "rGdKcBseJF_c",
        "colab": {
          "base_uri": "https://localhost:8080/"
        },
        "outputId": "1a5b3a05-c267-4560-8429-7ea031db1303"
      },
      "execution_count": null,
      "outputs": [
        {
          "output_type": "stream",
          "name": "stdout",
          "text": [
            "Enter a string: EXAM\n",
            "MAXE\n"
          ]
        }
      ]
    },
    {
      "cell_type": "markdown",
      "source": [
        "Q3 Write a Python program that accepts a string from user. Your program should create a new string by shifting one position to left.\n",
        "\n",
        "For example if the user enters the string 'examination 2021' then new string would be 'xamination 2021e'"
      ],
      "metadata": {
        "id": "vI6h0j6EJXN7"
      }
    },
    {
      "cell_type": "code",
      "source": [
        "del print\n",
        "d = input(\"Enter a string: \")\n",
        "print(d[1:] + d[0])"
      ],
      "metadata": {
        "colab": {
          "base_uri": "https://localhost:8080/"
        },
        "id": "3b25xk2zcJMx",
        "outputId": "b711021b-a52d-4fb8-ae52-021d7a0d34b0"
      },
      "execution_count": null,
      "outputs": [
        {
          "output_type": "stream",
          "name": "stdout",
          "text": [
            "Enter a string: examination 2021\n",
            "xamination 2021e\n"
          ]
        }
      ]
    },
    {
      "cell_type": "markdown",
      "source": [
        "Q4 Write a Python program to calculate the length of a string."
      ],
      "metadata": {
        "id": "RcpZlQ1uJiHH"
      }
    },
    {
      "cell_type": "code",
      "source": [
        "del len\n",
        "g=input(\"Enter a string: \")\n",
        "print(len(g))"
      ],
      "metadata": {
        "id": "tYfZmeLw1J9R",
        "colab": {
          "base_uri": "https://localhost:8080/"
        },
        "outputId": "0bf025ed-526b-4f8e-c584-a9bbb799ed76"
      },
      "execution_count": null,
      "outputs": [
        {
          "output_type": "stream",
          "name": "stdout",
          "text": [
            "Enter a string: Pune\n",
            "4\n"
          ]
        }
      ]
    },
    {
      "cell_type": "markdown",
      "source": [
        "Q5 Write a Python program to get a string made of the first 2 and last 2 characters of a given string. If the string length is less than 2, return the empty string instead.\n",
        "Sample String : 'w3resource'\n",
        "Expected Result : 'w3ce'\n",
        "Sample String : 'w3'\n",
        "Expected Result : 'w3w3'\n",
        "Sample String : ' w'\n",
        "Expected Result : Empty String"
      ],
      "metadata": {
        "id": "kZ-tq4KG1KtZ"
      }
    },
    {
      "cell_type": "code",
      "source": [
        "A=input(\"Enter a string: \")\n",
        "if len(A)<2:\n",
        "  print(\"Empty String\")\n",
        "else:\n",
        "  print(A[:2]+A[-2:])"
      ],
      "metadata": {
        "id": "k1UDXqBy1dlb",
        "colab": {
          "base_uri": "https://localhost:8080/"
        },
        "outputId": "81c82b9d-1544-49d4-a623-af1ce1da94d5"
      },
      "execution_count": null,
      "outputs": [
        {
          "output_type": "stream",
          "name": "stdout",
          "text": [
            "Enter a string: w3resource\n",
            "w3ce\n"
          ]
        }
      ]
    },
    {
      "cell_type": "markdown",
      "source": [
        "Q6 Write a Python program to add 'ing' at the end of a given string (length should be at least 3). If the given string already ends with 'ing', add 'ly' instead. If the string length of the given string is less than 3, leave it unchanged.\n",
        "Sample String : 'abc'\n",
        "Expected Result : 'abcing'\n",
        "Sample String : 'string'\n",
        "Expected Result : 'stringly'"
      ],
      "metadata": {
        "id": "fLmjxBVH1dv7"
      }
    },
    {
      "cell_type": "code",
      "source": [
        "A=input(\"Enter a string: \")\n",
        "if len(A)<3:\n",
        "  print(A)\n",
        "elif A[-3:]==\"ing\":\n",
        "  print(A+\"ly\")\n",
        "else:\n",
        "  print(A+\"ing\")"
      ],
      "metadata": {
        "id": "aDBLGj7o1xDG",
        "colab": {
          "base_uri": "https://localhost:8080/"
        },
        "outputId": "23fea074-c2d8-4e1d-8fb2-f2dda78945dd"
      },
      "execution_count": null,
      "outputs": [
        {
          "output_type": "stream",
          "name": "stdout",
          "text": [
            "Enter a string: abc\n",
            "abcing\n"
          ]
        }
      ]
    },
    {
      "cell_type": "markdown",
      "source": [
        "Q7 Write a Python program to remove the nth index character from a nonempty string."
      ],
      "metadata": {
        "id": "Ni87_gWx1yAM"
      }
    },
    {
      "cell_type": "code",
      "source": [
        "A=input(\"Enter a string: \")\n",
        "n=int(input(\"Enter the index: \"))\n",
        "print(A[:n]+A[n+1:])"
      ],
      "metadata": {
        "id": "qQKUKvze2Kz0",
        "colab": {
          "base_uri": "https://localhost:8080/"
        },
        "outputId": "ffc3c127-f796-49b5-fa5d-40501e835108"
      },
      "execution_count": null,
      "outputs": [
        {
          "output_type": "stream",
          "name": "stdout",
          "text": [
            "Enter a string: satara\n",
            "Enter the index: 1\n",
            "stara\n"
          ]
        }
      ]
    },
    {
      "cell_type": "markdown",
      "source": [
        "Q8 Write a Python program to change a given string to a newly string where the first and last chars have been exchanged."
      ],
      "metadata": {
        "id": "JV7rvO032LvA"
      }
    },
    {
      "cell_type": "code",
      "source": [
        "A=input(\"Enter a string: \")\n",
        "print(A[-1]+A[1:-1]+A[0])"
      ],
      "metadata": {
        "id": "OnyZ4Qms2TTJ",
        "colab": {
          "base_uri": "https://localhost:8080/"
        },
        "outputId": "8a79e37c-e6fc-4906-c883-5cb46f8be39a"
      },
      "execution_count": null,
      "outputs": [
        {
          "output_type": "stream",
          "name": "stdout",
          "text": [
            "Enter a string: satara\n",
            "aatars\n"
          ]
        }
      ]
    },
    {
      "cell_type": "markdown",
      "source": [
        "Q9 Write a Python script that takes input from the user and displays that in upper and lower cases."
      ],
      "metadata": {
        "id": "pJHJGSEt2Tk5"
      }
    },
    {
      "cell_type": "code",
      "source": [
        "A=input(\"Enter a string: \")\n",
        "print(A.upper())\n",
        "print(A.lower())\n"
      ],
      "metadata": {
        "id": "Ccs56I1hT0uY",
        "colab": {
          "base_uri": "https://localhost:8080/"
        },
        "outputId": "a8a16acd-0b3f-42e9-f7fd-b064f32a252e"
      },
      "execution_count": null,
      "outputs": [
        {
          "output_type": "stream",
          "name": "stdout",
          "text": [
            "Enter a string: Satara\n",
            "SATARA\n",
            "satara\n"
          ]
        }
      ]
    },
    {
      "cell_type": "markdown",
      "source": [
        " Write a Python program to count the number of vowels in a given string.\n",
        "Example:\n",
        "Input: \"Python Programming\"\n",
        "Output: 4\n",
        "\n"
      ],
      "metadata": {
        "id": "mw77_y8NJASm"
      }
    },
    {
      "cell_type": "code",
      "source": [
        "A=input(\"Enter a string: \")\n",
        "count=0\n",
        "for i in A:\n",
        "  if i in \"aeiouAEIOU\":\n",
        "    count+=1\n",
        "print(count)"
      ],
      "metadata": {
        "colab": {
          "base_uri": "https://localhost:8080/"
        },
        "id": "AG-7lcdQI4LR",
        "outputId": "765d1ab5-2636-4989-85a3-657b513707e0"
      },
      "execution_count": null,
      "outputs": [
        {
          "output_type": "stream",
          "name": "stdout",
          "text": [
            "Enter a string: Python Programming\n",
            "4\n"
          ]
        }
      ]
    },
    {
      "cell_type": "markdown",
      "source": [
        "Q11. Write a Python program to remove all the spaces from a given string and display the new string.\n",
        "Example:\n",
        "Input: \"Hello World\"\n",
        "Output: \"HelloWorld\"\n"
      ],
      "metadata": {
        "id": "OgLpvKBZJQne"
      }
    },
    {
      "cell_type": "code",
      "source": [
        "A=input(\"Enter a string: \")\n",
        "print(A.replace(\" \",\"\"))"
      ],
      "metadata": {
        "colab": {
          "base_uri": "https://localhost:8080/"
        },
        "id": "gykl7tlnJUKW",
        "outputId": "14ff9a2d-f1c9-4b9b-975e-2b9cea518298"
      },
      "execution_count": null,
      "outputs": [
        {
          "output_type": "stream",
          "name": "stdout",
          "text": [
            "Enter a string: Hello World\n",
            "HelloWorld\n"
          ]
        }
      ]
    },
    {
      "cell_type": "markdown",
      "source": [
        "Q12. Write a Python program to find the number of words in a given string.\n",
        "Example:\n",
        "Input: \"Python is fun\"\n",
        "Output: 3\n",
        "\n"
      ],
      "metadata": {
        "id": "L2nstsW_Jbyg"
      }
    },
    {
      "cell_type": "code",
      "source": [
        "A=input(\"Enter a string: \")\n",
        "print(len(A.split()))"
      ],
      "metadata": {
        "colab": {
          "base_uri": "https://localhost:8080/"
        },
        "id": "Kl2h614AJfzs",
        "outputId": "b362d8f7-12e3-44e0-ba90-39266b711d9a"
      },
      "execution_count": null,
      "outputs": [
        {
          "output_type": "stream",
          "name": "stdout",
          "text": [
            "Enter a string: Python is fun\n",
            "3\n"
          ]
        }
      ]
    },
    {
      "cell_type": "markdown",
      "source": [
        "Q13. Write a Python program to replace all occurrences of a substring in a given string with another substring.\n",
        "Example:\n",
        "Input: \"I love apples\", replace \"apples\" with \"bananas\"\n",
        "Output: \"I love bananas\"\n",
        "\n"
      ],
      "metadata": {
        "id": "BU4WWHEUJlW4"
      }
    },
    {
      "cell_type": "code",
      "source": [
        "A=input(\"Enter a string: \")\n",
        "B=input(\"Enter the substring to be replaced: \")\n",
        "C=input(\"Enter the substring to replace with: \")\n",
        "print(A.replace(B,C))"
      ],
      "metadata": {
        "colab": {
          "base_uri": "https://localhost:8080/"
        },
        "id": "NTRLZBoHJoo7",
        "outputId": "999052eb-3531-4b43-d9e9-29669ecc7083"
      },
      "execution_count": null,
      "outputs": [
        {
          "output_type": "stream",
          "name": "stdout",
          "text": [
            "Enter a string: I love Apple\n",
            "Enter the substring to be replaced: Apple\n",
            "Enter the substring to replace with: bananas\n",
            "I love bananas\n"
          ]
        }
      ]
    },
    {
      "cell_type": "markdown",
      "source": [
        "Q14. Write a Python program to check if a string is a palindrome (reads the same forward and backward).\n",
        "Example:\n",
        "Input: \"madam\"\n",
        "Output: \"Palindrome\"\n",
        "Input: \"hello\"\n",
        "Output: \"Not a palindrome\""
      ],
      "metadata": {
        "id": "z1p_zPPEKDDX"
      }
    },
    {
      "cell_type": "code",
      "source": [
        "A=input(\"Enter a string: \")\n",
        "if A==A[::-1]:\n",
        "  print(\"Palindrome\")\n",
        "else:\n",
        "  print(\"Not a palindrome\")"
      ],
      "metadata": {
        "colab": {
          "base_uri": "https://localhost:8080/"
        },
        "id": "5heKzoxOKHo_",
        "outputId": "42f58cdd-b266-4a21-c715-f4f657b88dc8"
      },
      "execution_count": null,
      "outputs": [
        {
          "output_type": "stream",
          "name": "stdout",
          "text": [
            "Enter a string: hello\n",
            "Not a palindrome\n"
          ]
        }
      ]
    }
  ]
}
