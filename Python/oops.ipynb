{
  "nbformat": 4,
  "nbformat_minor": 0,
  "metadata": {
    "colab": {
      "provenance": [],
      "authorship_tag": "ABX9TyMFKzwXNDVg56/wJOlWkomO",
      "include_colab_link": true
    },
    "kernelspec": {
      "name": "python3",
      "display_name": "Python 3"
    },
    "language_info": {
      "name": "python"
    }
  },
  "cells": [
    {
      "cell_type": "markdown",
      "metadata": {
        "id": "view-in-github",
        "colab_type": "text"
      },
      "source": [
        "<a href=\"https://colab.research.google.com/github/Saniya1th/Anudip-Assignment/blob/main/oops.ipynb\" target=\"_parent\"><img src=\"https://colab.research.google.com/assets/colab-badge.svg\" alt=\"Open In Colab\"/></a>"
      ]
    },
    {
      "cell_type": "markdown",
      "source": [
        "Define a class name car with attributes make model and year include a method called Get_ info()that prints out the detail of the car create and instant of the car class and call the get _info()method"
      ],
      "metadata": {
        "id": "PffL1qKRuNmB"
      }
    },
    {
      "cell_type": "code",
      "execution_count": null,
      "metadata": {
        "colab": {
          "base_uri": "https://localhost:8080/"
        },
        "id": "ROJzwYFzsUM0",
        "outputId": "6504ffa1-f65c-4349-a367-7fa4344bfd02"
      },
      "outputs": [
        {
          "output_type": "stream",
          "name": "stdout",
          "text": [
            "Make:Toyota,Model:Fortuner,Year:2024\n"
          ]
        }
      ],
      "source": [
        "class car:\n",
        "  def __init__(self,make,model,year):\n",
        "    self.make=make\n",
        "    self.model=model\n",
        "    self.year=year\n",
        "  def __str__(self):\n",
        "    return f\"{self.make} {self.model} {self.year}\"\n",
        "  def get_info(self):\n",
        "    print(f\"Make:{self.make},Model:{self.model},Year:{self.year}\")\n",
        "fortuner_car=car(\"Toyota\", \"Fortuner\",2024)\n",
        "fortuner_car.get_info()\n",
        "\n"
      ]
    },
    {
      "cell_type": "markdown",
      "source": [
        "Question 5: Define a class named Circle with attributes radius and color. Include methods to calculate the area and circumference of the circle. Create an instance of the Circle class with radius 5 and color \"blue\", then print its area and circumference.\n",
        "\n"
      ],
      "metadata": {
        "id": "7U7kE1jRw8Jg"
      }
    },
    {
      "cell_type": "code",
      "source": [
        "import math\n",
        "\n",
        "# Define the Circle class\n",
        "class Circle:\n",
        "    def __init__(self, radius, color):\n",
        "        self.radius = radius  # Attribute to store the radius\n",
        "        self.color = color    # Attribute to store the color\n",
        "\n",
        "    # Method to calculate the area of the circle\n",
        "    def area(self):\n",
        "        return math.pi * self.radius ** 2\n",
        "\n",
        "    # Method to calculate the circumference of the circle\n",
        "    def circumference(self):\n",
        "        return 2 * math.pi * self.radius\n",
        "\n",
        "# Create an instance of Circle with radius 5 and color 'blue'\n",
        "circle = Circle(5, \"blue\")\n",
        "\n",
        "# Print the area and circumference of the circle\n",
        "print(f\"Circle with radius {circle.radius} and color {circle.color}:\")\n",
        "print(f\"Area: {circle.area():.2f}\")\n",
        "print(f\"Circumference: {circle.circumference():.2f}\")\n",
        "\n",
        "\n"
      ],
      "metadata": {
        "colab": {
          "base_uri": "https://localhost:8080/"
        },
        "id": "1PrjReLSw_-y",
        "outputId": "4dab6b86-415e-4d2d-e2d5-00a0297ec270"
      },
      "execution_count": null,
      "outputs": [
        {
          "output_type": "stream",
          "name": "stdout",
          "text": [
            "Circle with radius 5 and color blue:\n",
            "Area: 78.54\n",
            "Circumference: 31.42\n"
          ]
        }
      ]
    },
    {
      "cell_type": "markdown",
      "source": [
        "Question 6: Create a class named Book with attributes title, author, and price. Include a method called discount() that takes a percentage discount as an argument and updates the price accordingly. Create an instance of the Book class and call the discount() method with a 20% discount.\n",
        "\n"
      ],
      "metadata": {
        "id": "xPxqR0zyy5WD"
      }
    },
    {
      "cell_type": "code",
      "source": [
        "# Define the Book class\n",
        "class Book:\n",
        "    def __init__(self, title, author, price):\n",
        "        self.title = title      # Attribute to store the title of the book\n",
        "        self.author = author    # Attribute to store the author of the book\n",
        "        self.price = price      # Attribute to store the price of the book\n",
        "\n",
        "    # Method to apply a discount to the price\n",
        "    def discount(self, percentage):\n",
        "        # Calculate the discount amount\n",
        "        discount_amount = self.price * (percentage / 100)\n",
        "        # Update the price after applying the discount\n",
        "        self.price -= discount_amount\n",
        "\n",
        "    # Method to get the book details\n",
        "    def details(self):\n",
        "        return f\"Title: {self.title}, Author: {self.author}, Price: ${self.price:.2f}\"\n",
        "\n",
        "# Create an instance of Book\n",
        "book = Book(\"Python Programming\", \"John Doe\", 29.99)\n",
        "\n",
        "# Print book details before discount\n",
        "print(\"Before discount:\")\n",
        "print(book.details())\n",
        "\n",
        "# Apply a 20% discount\n",
        "book.discount(20)\n",
        "\n",
        "# Print book details after discount\n",
        "print(\"\\nAfter 20% discount:\")\n",
        "print(book.details())\n"
      ],
      "metadata": {
        "colab": {
          "base_uri": "https://localhost:8080/"
        },
        "id": "R0ZwnZezy9Vd",
        "outputId": "3140893a-4abf-408b-8fc9-995c1d2d0ad6"
      },
      "execution_count": null,
      "outputs": [
        {
          "output_type": "stream",
          "name": "stdout",
          "text": [
            "Before discount:\n",
            "Title: Python Programming, Author: John Doe, Price: $29.99\n",
            "\n",
            "After 20% discount:\n",
            "Title: Python Programming, Author: John Doe, Price: $23.99\n"
          ]
        }
      ]
    },
    {
      "cell_type": "markdown",
      "source": [
        "Question 7: Define a class called Student with attributes name, age, and grades. Include a method called calculate_average() that computes the average grade of the student. Create an instance of the Student class with name \"Alice\", age 20, and grades [90, 85, 88], then print the average grade.\n",
        "\n"
      ],
      "metadata": {
        "id": "1Gm6HOcdzd0L"
      }
    },
    {
      "cell_type": "code",
      "source": [
        "# Define the Student class\n",
        "class Student:\n",
        "    def __init__(self, name, age, grades):\n",
        "        self.name = name        # Attribute to store the student's name\n",
        "        self.age = age          # Attribute to store the student's age\n",
        "        self.grades = grades    # Attribute to store the list of grades\n",
        "\n",
        "    # Method to calculate the average grade of the student\n",
        "    def calculate_average(self):\n",
        "        if len(self.grades) == 0:  # Check if grades list is empty\n",
        "            return 0\n",
        "        return sum(self.grades) / len(self.grades)\n",
        "\n",
        "# Create an instance of Student\n",
        "student = Student(\"Alice\", 20, [90, 85, 88])\n",
        "\n",
        "# Calculate and print the average grade\n",
        "average_grade = student.calculate_average()\n",
        "print(f\"{student.name}'s average grade: {average_grade:.2f}\")\n"
      ],
      "metadata": {
        "colab": {
          "base_uri": "https://localhost:8080/"
        },
        "id": "yfeWnFlkzj8S",
        "outputId": "4e7b3020-31fc-4767-b1c5-8671a571d291"
      },
      "execution_count": null,
      "outputs": [
        {
          "output_type": "stream",
          "name": "stdout",
          "text": [
            "Alice's average grade: 87.67\n"
          ]
        }
      ]
    },
    {
      "cell_type": "markdown",
      "source": [
        "Question 8: Create a class named Rectangle with attributes length and width. Include methods to calculate the area, perimeter, and diagonal of the rectangle. Create an instance of the Rectangle class with length 4 and width 3, then print its area, perimeter, and diagonal."
      ],
      "metadata": {
        "id": "TtdTratfztdJ"
      }
    },
    {
      "cell_type": "code",
      "source": [
        "import math\n",
        "\n",
        "# Define the Rectangle class\n",
        "class Rectangle:\n",
        "    def __init__(self, length, width):\n",
        "        self.length = length  # Attribute to store the length of the rectangle\n",
        "        self.width = width    # Attribute to store the width of the rectangle\n",
        "\n",
        "    # Method to calculate the area of the rectangle\n",
        "    def area(self):\n",
        "        return self.length * self.width\n",
        "\n",
        "    # Method to calculate the perimeter of the rectangle\n",
        "    def perimeter(self):\n",
        "        return 2 * (self.length + self.width)\n",
        "\n",
        "    # Method to calculate the diagonal of the rectangle using the Pythagorean theorem\n",
        "    def diagonal(self):\n",
        "        return math.sqrt(self.length**2 + self.width**2)\n",
        "\n",
        "# Create an instance of Rectangle with length 4 and width 3\n",
        "rectangle = Rectangle(4, 3)\n",
        "\n",
        "# Print the area, perimeter, and diagonal of the rectangle\n",
        "print(f\"Rectangle with length {rectangle.length} and width {rectangle.width}:\")\n",
        "print(f\"Area: {rectangle.area()}\")\n",
        "print(f\"Perimeter: {rectangle.perimeter()}\")\n",
        "print(f\"Diagonal: {rectangle.diagonal():.2f}\")\n"
      ],
      "metadata": {
        "colab": {
          "base_uri": "https://localhost:8080/"
        },
        "id": "j6ROcV2PzxOD",
        "outputId": "ef58579b-6548-4147-fc8b-b373f06c8230"
      },
      "execution_count": null,
      "outputs": [
        {
          "output_type": "stream",
          "name": "stdout",
          "text": [
            "Rectangle with length 4 and width 3:\n",
            "Area: 12\n",
            "Perimeter: 14\n",
            "Diagonal: 5.00\n"
          ]
        }
      ]
    }
  ]
}
